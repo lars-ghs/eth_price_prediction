{
  "nbformat": 4,
  "nbformat_minor": 0,
  "metadata": {
    "colab": {
      "provenance": [],
      "include_colab_link": true
    },
    "kernelspec": {
      "name": "python3",
      "display_name": "Python 3"
    },
    "language_info": {
      "name": "python"
    }
  },
  "cells": [
    {
      "cell_type": "markdown",
      "metadata": {
        "id": "view-in-github",
        "colab_type": "text"
      },
      "source": [
        "<a href=\"https://colab.research.google.com/github/lars-ghs/eth_price_prediction/blob/main/ETH_price_prediction_LSTM_log_diff.ipynb\" target=\"_parent\"><img src=\"https://colab.research.google.com/assets/colab-badge.svg\" alt=\"Open In Colab\"/></a>"
      ]
    },
    {
      "cell_type": "code",
      "metadata": {
        "id": "4C3eqvM3u9yF"
      },
      "source": [
        "# imports:\n",
        "import numpy as np\n",
        "from numpy import array\n",
        "import pandas as pd\n",
        "import tensorflow as tf\n",
        "from tensorflow import keras\n",
        "import seaborn as sns\n",
        "from pylab import rcParams\n",
        "import matplotlib.pyplot as plt\n",
        "%matplotlib inline\n",
        "from matplotlib import rc "
      ],
      "execution_count": null,
      "outputs": []
    },
    {
      "cell_type": "code",
      "metadata": {
        "id": "1O2Ii8HAvYpD"
      },
      "source": [
        "from google.colab import files\n",
        "import io"
      ],
      "execution_count": null,
      "outputs": []
    },
    {
      "cell_type": "code",
      "metadata": {
        "colab": {
          "resources": {
            "http://localhost:8080/nbextensions/google.colab/files.js": {
              "data": "Ly8gQ29weXJpZ2h0IDIwMTcgR29vZ2xlIExMQwovLwovLyBMaWNlbnNlZCB1bmRlciB0aGUgQXBhY2hlIExpY2Vuc2UsIFZlcnNpb24gMi4wICh0aGUgIkxpY2Vuc2UiKTsKLy8geW91IG1heSBub3QgdXNlIHRoaXMgZmlsZSBleGNlcHQgaW4gY29tcGxpYW5jZSB3aXRoIHRoZSBMaWNlbnNlLgovLyBZb3UgbWF5IG9idGFpbiBhIGNvcHkgb2YgdGhlIExpY2Vuc2UgYXQKLy8KLy8gICAgICBodHRwOi8vd3d3LmFwYWNoZS5vcmcvbGljZW5zZXMvTElDRU5TRS0yLjAKLy8KLy8gVW5sZXNzIHJlcXVpcmVkIGJ5IGFwcGxpY2FibGUgbGF3IG9yIGFncmVlZCB0byBpbiB3cml0aW5nLCBzb2Z0d2FyZQovLyBkaXN0cmlidXRlZCB1bmRlciB0aGUgTGljZW5zZSBpcyBkaXN0cmlidXRlZCBvbiBhbiAiQVMgSVMiIEJBU0lTLAovLyBXSVRIT1VUIFdBUlJBTlRJRVMgT1IgQ09ORElUSU9OUyBPRiBBTlkgS0lORCwgZWl0aGVyIGV4cHJlc3Mgb3IgaW1wbGllZC4KLy8gU2VlIHRoZSBMaWNlbnNlIGZvciB0aGUgc3BlY2lmaWMgbGFuZ3VhZ2UgZ292ZXJuaW5nIHBlcm1pc3Npb25zIGFuZAovLyBsaW1pdGF0aW9ucyB1bmRlciB0aGUgTGljZW5zZS4KCi8qKgogKiBAZmlsZW92ZXJ2aWV3IEhlbHBlcnMgZm9yIGdvb2dsZS5jb2xhYiBQeXRob24gbW9kdWxlLgogKi8KKGZ1bmN0aW9uKHNjb3BlKSB7CmZ1bmN0aW9uIHNwYW4odGV4dCwgc3R5bGVBdHRyaWJ1dGVzID0ge30pIHsKICBjb25zdCBlbGVtZW50ID0gZG9jdW1lbnQuY3JlYXRlRWxlbWVudCgnc3BhbicpOwogIGVsZW1lbnQudGV4dENvbnRlbnQgPSB0ZXh0OwogIGZvciAoY29uc3Qga2V5IG9mIE9iamVjdC5rZXlzKHN0eWxlQXR0cmlidXRlcykpIHsKICAgIGVsZW1lbnQuc3R5bGVba2V5XSA9IHN0eWxlQXR0cmlidXRlc1trZXldOwogIH0KICByZXR1cm4gZWxlbWVudDsKfQoKLy8gTWF4IG51bWJlciBvZiBieXRlcyB3aGljaCB3aWxsIGJlIHVwbG9hZGVkIGF0IGEgdGltZS4KY29uc3QgTUFYX1BBWUxPQURfU0laRSA9IDEwMCAqIDEwMjQ7CgpmdW5jdGlvbiBfdXBsb2FkRmlsZXMoaW5wdXRJZCwgb3V0cHV0SWQpIHsKICBjb25zdCBzdGVwcyA9IHVwbG9hZEZpbGVzU3RlcChpbnB1dElkLCBvdXRwdXRJZCk7CiAgY29uc3Qgb3V0cHV0RWxlbWVudCA9IGRvY3VtZW50LmdldEVsZW1lbnRCeUlkKG91dHB1dElkKTsKICAvLyBDYWNoZSBzdGVwcyBvbiB0aGUgb3V0cHV0RWxlbWVudCB0byBtYWtlIGl0IGF2YWlsYWJsZSBmb3IgdGhlIG5leHQgY2FsbAogIC8vIHRvIHVwbG9hZEZpbGVzQ29udGludWUgZnJvbSBQeXRob24uCiAgb3V0cHV0RWxlbWVudC5zdGVwcyA9IHN0ZXBzOwoKICByZXR1cm4gX3VwbG9hZEZpbGVzQ29udGludWUob3V0cHV0SWQpOwp9CgovLyBUaGlzIGlzIHJvdWdobHkgYW4gYXN5bmMgZ2VuZXJhdG9yIChub3Qgc3VwcG9ydGVkIGluIHRoZSBicm93c2VyIHlldCksCi8vIHdoZXJlIHRoZXJlIGFyZSBtdWx0aXBsZSBhc3luY2hyb25vdXMgc3RlcHMgYW5kIHRoZSBQeXRob24gc2lkZSBpcyBnb2luZwovLyB0byBwb2xsIGZvciBjb21wbGV0aW9uIG9mIGVhY2ggc3RlcC4KLy8gVGhpcyB1c2VzIGEgUHJvbWlzZSB0byBibG9jayB0aGUgcHl0aG9uIHNpZGUgb24gY29tcGxldGlvbiBvZiBlYWNoIHN0ZXAsCi8vIHRoZW4gcGFzc2VzIHRoZSByZXN1bHQgb2YgdGhlIHByZXZpb3VzIHN0ZXAgYXMgdGhlIGlucHV0IHRvIHRoZSBuZXh0IHN0ZXAuCmZ1bmN0aW9uIF91cGxvYWRGaWxlc0NvbnRpbnVlKG91dHB1dElkKSB7CiAgY29uc3Qgb3V0cHV0RWxlbWVudCA9IGRvY3VtZW50LmdldEVsZW1lbnRCeUlkKG91dHB1dElkKTsKICBjb25zdCBzdGVwcyA9IG91dHB1dEVsZW1lbnQuc3RlcHM7CgogIGNvbnN0IG5leHQgPSBzdGVwcy5uZXh0KG91dHB1dEVsZW1lbnQubGFzdFByb21pc2VWYWx1ZSk7CiAgcmV0dXJuIFByb21pc2UucmVzb2x2ZShuZXh0LnZhbHVlLnByb21pc2UpLnRoZW4oKHZhbHVlKSA9PiB7CiAgICAvLyBDYWNoZSB0aGUgbGFzdCBwcm9taXNlIHZhbHVlIHRvIG1ha2UgaXQgYXZhaWxhYmxlIHRvIHRoZSBuZXh0CiAgICAvLyBzdGVwIG9mIHRoZSBnZW5lcmF0b3IuCiAgICBvdXRwdXRFbGVtZW50Lmxhc3RQcm9taXNlVmFsdWUgPSB2YWx1ZTsKICAgIHJldHVybiBuZXh0LnZhbHVlLnJlc3BvbnNlOwogIH0pOwp9CgovKioKICogR2VuZXJhdG9yIGZ1bmN0aW9uIHdoaWNoIGlzIGNhbGxlZCBiZXR3ZWVuIGVhY2ggYXN5bmMgc3RlcCBvZiB0aGUgdXBsb2FkCiAqIHByb2Nlc3MuCiAqIEBwYXJhbSB7c3RyaW5nfSBpbnB1dElkIEVsZW1lbnQgSUQgb2YgdGhlIGlucHV0IGZpbGUgcGlja2VyIGVsZW1lbnQuCiAqIEBwYXJhbSB7c3RyaW5nfSBvdXRwdXRJZCBFbGVtZW50IElEIG9mIHRoZSBvdXRwdXQgZGlzcGxheS4KICogQHJldHVybiB7IUl0ZXJhYmxlPCFPYmplY3Q+fSBJdGVyYWJsZSBvZiBuZXh0IHN0ZXBzLgogKi8KZnVuY3Rpb24qIHVwbG9hZEZpbGVzU3RlcChpbnB1dElkLCBvdXRwdXRJZCkgewogIGNvbnN0IGlucHV0RWxlbWVudCA9IGRvY3VtZW50LmdldEVsZW1lbnRCeUlkKGlucHV0SWQpOwogIGlucHV0RWxlbWVudC5kaXNhYmxlZCA9IGZhbHNlOwoKICBjb25zdCBvdXRwdXRFbGVtZW50ID0gZG9jdW1lbnQuZ2V0RWxlbWVudEJ5SWQob3V0cHV0SWQpOwogIG91dHB1dEVsZW1lbnQuaW5uZXJIVE1MID0gJyc7CgogIGNvbnN0IHBpY2tlZFByb21pc2UgPSBuZXcgUHJvbWlzZSgocmVzb2x2ZSkgPT4gewogICAgaW5wdXRFbGVtZW50LmFkZEV2ZW50TGlzdGVuZXIoJ2NoYW5nZScsIChlKSA9PiB7CiAgICAgIHJlc29sdmUoZS50YXJnZXQuZmlsZXMpOwogICAgfSk7CiAgfSk7CgogIGNvbnN0IGNhbmNlbCA9IGRvY3VtZW50LmNyZWF0ZUVsZW1lbnQoJ2J1dHRvbicpOwogIGlucHV0RWxlbWVudC5wYXJlbnRFbGVtZW50LmFwcGVuZENoaWxkKGNhbmNlbCk7CiAgY2FuY2VsLnRleHRDb250ZW50ID0gJ0NhbmNlbCB1cGxvYWQnOwogIGNvbnN0IGNhbmNlbFByb21pc2UgPSBuZXcgUHJvbWlzZSgocmVzb2x2ZSkgPT4gewogICAgY2FuY2VsLm9uY2xpY2sgPSAoKSA9PiB7CiAgICAgIHJlc29sdmUobnVsbCk7CiAgICB9OwogIH0pOwoKICAvLyBXYWl0IGZvciB0aGUgdXNlciB0byBwaWNrIHRoZSBmaWxlcy4KICBjb25zdCBmaWxlcyA9IHlpZWxkIHsKICAgIHByb21pc2U6IFByb21pc2UucmFjZShbcGlja2VkUHJvbWlzZSwgY2FuY2VsUHJvbWlzZV0pLAogICAgcmVzcG9uc2U6IHsKICAgICAgYWN0aW9uOiAnc3RhcnRpbmcnLAogICAgfQogIH07CgogIGNhbmNlbC5yZW1vdmUoKTsKCiAgLy8gRGlzYWJsZSB0aGUgaW5wdXQgZWxlbWVudCBzaW5jZSBmdXJ0aGVyIHBpY2tzIGFyZSBub3QgYWxsb3dlZC4KICBpbnB1dEVsZW1lbnQuZGlzYWJsZWQgPSB0cnVlOwoKICBpZiAoIWZpbGVzKSB7CiAgICByZXR1cm4gewogICAgICByZXNwb25zZTogewogICAgICAgIGFjdGlvbjogJ2NvbXBsZXRlJywKICAgICAgfQogICAgfTsKICB9CgogIGZvciAoY29uc3QgZmlsZSBvZiBmaWxlcykgewogICAgY29uc3QgbGkgPSBkb2N1bWVudC5jcmVhdGVFbGVtZW50KCdsaScpOwogICAgbGkuYXBwZW5kKHNwYW4oZmlsZS5uYW1lLCB7Zm9udFdlaWdodDogJ2JvbGQnfSkpOwogICAgbGkuYXBwZW5kKHNwYW4oCiAgICAgICAgYCgke2ZpbGUudHlwZSB8fCAnbi9hJ30pIC0gJHtmaWxlLnNpemV9IGJ5dGVzLCBgICsKICAgICAgICBgbGFzdCBtb2RpZmllZDogJHsKICAgICAgICAgICAgZmlsZS5sYXN0TW9kaWZpZWREYXRlID8gZmlsZS5sYXN0TW9kaWZpZWREYXRlLnRvTG9jYWxlRGF0ZVN0cmluZygpIDoKICAgICAgICAgICAgICAgICAgICAgICAgICAgICAgICAgICAgJ24vYSd9IC0gYCkpOwogICAgY29uc3QgcGVyY2VudCA9IHNwYW4oJzAlIGRvbmUnKTsKICAgIGxpLmFwcGVuZENoaWxkKHBlcmNlbnQpOwoKICAgIG91dHB1dEVsZW1lbnQuYXBwZW5kQ2hpbGQobGkpOwoKICAgIGNvbnN0IGZpbGVEYXRhUHJvbWlzZSA9IG5ldyBQcm9taXNlKChyZXNvbHZlKSA9PiB7CiAgICAgIGNvbnN0IHJlYWRlciA9IG5ldyBGaWxlUmVhZGVyKCk7CiAgICAgIHJlYWRlci5vbmxvYWQgPSAoZSkgPT4gewogICAgICAgIHJlc29sdmUoZS50YXJnZXQucmVzdWx0KTsKICAgICAgfTsKICAgICAgcmVhZGVyLnJlYWRBc0FycmF5QnVmZmVyKGZpbGUpOwogICAgfSk7CiAgICAvLyBXYWl0IGZvciB0aGUgZGF0YSB0byBiZSByZWFkeS4KICAgIGxldCBmaWxlRGF0YSA9IHlpZWxkIHsKICAgICAgcHJvbWlzZTogZmlsZURhdGFQcm9taXNlLAogICAgICByZXNwb25zZTogewogICAgICAgIGFjdGlvbjogJ2NvbnRpbnVlJywKICAgICAgfQogICAgfTsKCiAgICAvLyBVc2UgYSBjaHVua2VkIHNlbmRpbmcgdG8gYXZvaWQgbWVzc2FnZSBzaXplIGxpbWl0cy4gU2VlIGIvNjIxMTU2NjAuCiAgICBsZXQgcG9zaXRpb24gPSAwOwogICAgZG8gewogICAgICBjb25zdCBsZW5ndGggPSBNYXRoLm1pbihmaWxlRGF0YS5ieXRlTGVuZ3RoIC0gcG9zaXRpb24sIE1BWF9QQVlMT0FEX1NJWkUpOwogICAgICBjb25zdCBjaHVuayA9IG5ldyBVaW50OEFycmF5KGZpbGVEYXRhLCBwb3NpdGlvbiwgbGVuZ3RoKTsKICAgICAgcG9zaXRpb24gKz0gbGVuZ3RoOwoKICAgICAgY29uc3QgYmFzZTY0ID0gYnRvYShTdHJpbmcuZnJvbUNoYXJDb2RlLmFwcGx5KG51bGwsIGNodW5rKSk7CiAgICAgIHlpZWxkIHsKICAgICAgICByZXNwb25zZTogewogICAgICAgICAgYWN0aW9uOiAnYXBwZW5kJywKICAgICAgICAgIGZpbGU6IGZpbGUubmFtZSwKICAgICAgICAgIGRhdGE6IGJhc2U2NCwKICAgICAgICB9LAogICAgICB9OwoKICAgICAgbGV0IHBlcmNlbnREb25lID0gZmlsZURhdGEuYnl0ZUxlbmd0aCA9PT0gMCA/CiAgICAgICAgICAxMDAgOgogICAgICAgICAgTWF0aC5yb3VuZCgocG9zaXRpb24gLyBmaWxlRGF0YS5ieXRlTGVuZ3RoKSAqIDEwMCk7CiAgICAgIHBlcmNlbnQudGV4dENvbnRlbnQgPSBgJHtwZXJjZW50RG9uZX0lIGRvbmVgOwoKICAgIH0gd2hpbGUgKHBvc2l0aW9uIDwgZmlsZURhdGEuYnl0ZUxlbmd0aCk7CiAgfQoKICAvLyBBbGwgZG9uZS4KICB5aWVsZCB7CiAgICByZXNwb25zZTogewogICAgICBhY3Rpb246ICdjb21wbGV0ZScsCiAgICB9CiAgfTsKfQoKc2NvcGUuZ29vZ2xlID0gc2NvcGUuZ29vZ2xlIHx8IHt9OwpzY29wZS5nb29nbGUuY29sYWIgPSBzY29wZS5nb29nbGUuY29sYWIgfHwge307CnNjb3BlLmdvb2dsZS5jb2xhYi5fZmlsZXMgPSB7CiAgX3VwbG9hZEZpbGVzLAogIF91cGxvYWRGaWxlc0NvbnRpbnVlLAp9Owp9KShzZWxmKTsK",
              "ok": true,
              "headers": [
                [
                  "content-type",
                  "application/javascript"
                ]
              ],
              "status": 200,
              "status_text": ""
            }
          },
          "base_uri": "https://localhost:8080/",
          "height": 73
        },
        "id": "2bkF8m3Kvk3q",
        "outputId": "d4cfd099-7582-46d0-addc-cae5922f47f5"
      },
      "source": [
        "uploaded = files.upload()"
      ],
      "execution_count": null,
      "outputs": [
        {
          "output_type": "display_data",
          "data": {
            "text/html": [
              "\n",
              "     <input type=\"file\" id=\"files-9f32b1c8-18a7-442e-85b3-2ad06fd52a32\" name=\"files[]\" multiple disabled\n",
              "        style=\"border:none\" />\n",
              "     <output id=\"result-9f32b1c8-18a7-442e-85b3-2ad06fd52a32\">\n",
              "      Upload widget is only available when the cell has been executed in the\n",
              "      current browser session. Please rerun this cell to enable.\n",
              "      </output>\n",
              "      <script src=\"/nbextensions/google.colab/files.js\"></script> "
            ],
            "text/plain": [
              "<IPython.core.display.HTML object>"
            ]
          },
          "metadata": {}
        },
        {
          "output_type": "stream",
          "name": "stdout",
          "text": [
            "Saving eth_mix_log_diff_return1611.csv to eth_mix_log_diff_return1611.csv\n"
          ]
        }
      ]
    },
    {
      "cell_type": "markdown",
      "metadata": {
        "id": "Ow1mHoEEJ1OE"
      },
      "source": [
        "# With means for NAN in financial values: "
      ]
    },
    {
      "cell_type": "markdown",
      "source": [
        "We will use the mean as replacement for any missing values. "
      ],
      "metadata": {
        "id": "_lUFxIqwl8ma"
      }
    },
    {
      "cell_type": "markdown",
      "metadata": {
        "id": "1sqdoW0KKREx"
      },
      "source": [
        "## Preparing DF and Train and Test data set:"
      ]
    },
    {
      "cell_type": "code",
      "metadata": {
        "id": "D4LdWEPRvm3C",
        "colab": {
          "base_uri": "https://localhost:8080/",
          "height": 632
        },
        "outputId": "4f0ef8e4-5092-456c-9d6d-a3cdc64915ce"
      },
      "source": [
        "df = pd.read_csv(io.BytesIO(uploaded['eth_mix_log_diff_return1611.csv']))\n",
        "df['date'] = pd.to_datetime(df['date'])\n",
        "df.set_index('date', inplace=True)\n"
      ],
      "execution_count": null,
      "outputs": [
        {
          "output_type": "execute_result",
          "data": {
            "text/html": [
              "<div>\n",
              "<style scoped>\n",
              "    .dataframe tbody tr th:only-of-type {\n",
              "        vertical-align: middle;\n",
              "    }\n",
              "\n",
              "    .dataframe tbody tr th {\n",
              "        vertical-align: top;\n",
              "    }\n",
              "\n",
              "    .dataframe thead th {\n",
              "        text-align: right;\n",
              "    }\n",
              "</style>\n",
              "<table border=\"1\" class=\"dataframe\">\n",
              "  <thead>\n",
              "    <tr style=\"text-align: right;\">\n",
              "      <th></th>\n",
              "      <th>eth_close</th>\n",
              "      <th>btc_close</th>\n",
              "      <th>dog_close</th>\n",
              "      <th>usdt_close</th>\n",
              "      <th>eth_volume</th>\n",
              "      <th>btc_volume</th>\n",
              "      <th>dog_volume</th>\n",
              "      <th>tw_eth_mean_vader</th>\n",
              "      <th>tw_eth_count</th>\n",
              "      <th>rd_eth_mean_vader</th>\n",
              "      <th>rd_eth_count</th>\n",
              "      <th>gt_eth_adjusted</th>\n",
              "      <th>usdt_volume</th>\n",
              "      <th>close_s&amp;p500</th>\n",
              "      <th>close_vix</th>\n",
              "      <th>close_nasdaq</th>\n",
              "    </tr>\n",
              "    <tr>\n",
              "      <th>date</th>\n",
              "      <th></th>\n",
              "      <th></th>\n",
              "      <th></th>\n",
              "      <th></th>\n",
              "      <th></th>\n",
              "      <th></th>\n",
              "      <th></th>\n",
              "      <th></th>\n",
              "      <th></th>\n",
              "      <th></th>\n",
              "      <th></th>\n",
              "      <th></th>\n",
              "      <th></th>\n",
              "      <th></th>\n",
              "      <th></th>\n",
              "      <th></th>\n",
              "    </tr>\n",
              "  </thead>\n",
              "  <tbody>\n",
              "    <tr>\n",
              "      <th>2020-01-31</th>\n",
              "      <td>-0.024835</td>\n",
              "      <td>-0.016805</td>\n",
              "      <td>-0.019032</td>\n",
              "      <td>-0.000803</td>\n",
              "      <td>-8.761729e+08</td>\n",
              "      <td>-2.946303e+09</td>\n",
              "      <td>-7.448619e+06</td>\n",
              "      <td>0.015198</td>\n",
              "      <td>130.0</td>\n",
              "      <td>0.065177</td>\n",
              "      <td>84.0</td>\n",
              "      <td>-0.545455</td>\n",
              "      <td>-3.127873e+09</td>\n",
              "      <td>-0.017864</td>\n",
              "      <td>0.195788</td>\n",
              "      <td>-0.016043</td>\n",
              "    </tr>\n",
              "    <tr>\n",
              "      <th>2020-02-01</th>\n",
              "      <td>0.019316</td>\n",
              "      <td>0.004518</td>\n",
              "      <td>0.011628</td>\n",
              "      <td>0.000567</td>\n",
              "      <td>-1.589192e+08</td>\n",
              "      <td>-3.509833e+09</td>\n",
              "      <td>2.211535e+06</td>\n",
              "      <td>-0.013101</td>\n",
              "      <td>-537.0</td>\n",
              "      <td>-0.045926</td>\n",
              "      <td>-91.0</td>\n",
              "      <td>-0.636364</td>\n",
              "      <td>-5.733785e+09</td>\n",
              "      <td>NaN</td>\n",
              "      <td>NaN</td>\n",
              "      <td>NaN</td>\n",
              "    </tr>\n",
              "    <tr>\n",
              "      <th>2020-02-02</th>\n",
              "      <td>0.026559</td>\n",
              "      <td>-0.005178</td>\n",
              "      <td>0.018814</td>\n",
              "      <td>-0.000671</td>\n",
              "      <td>2.484728e+09</td>\n",
              "      <td>4.913080e+09</td>\n",
              "      <td>1.282168e+07</td>\n",
              "      <td>0.013942</td>\n",
              "      <td>173.0</td>\n",
              "      <td>-0.076579</td>\n",
              "      <td>45.0</td>\n",
              "      <td>2.181818</td>\n",
              "      <td>5.797555e+09</td>\n",
              "      <td>NaN</td>\n",
              "      <td>NaN</td>\n",
              "      <td>NaN</td>\n",
              "    </tr>\n",
              "    <tr>\n",
              "      <th>2020-02-03</th>\n",
              "      <td>0.006592</td>\n",
              "      <td>-0.005456</td>\n",
              "      <td>-0.011410</td>\n",
              "      <td>-0.001631</td>\n",
              "      <td>-1.661550e+09</td>\n",
              "      <td>9.835956e+07</td>\n",
              "      <td>-1.269588e+07</td>\n",
              "      <td>-0.032091</td>\n",
              "      <td>167.0</td>\n",
              "      <td>0.009148</td>\n",
              "      <td>-106.0</td>\n",
              "      <td>0.609756</td>\n",
              "      <td>-7.111358e+08</td>\n",
              "      <td>0.007228</td>\n",
              "      <td>-0.047279</td>\n",
              "      <td>0.013293</td>\n",
              "    </tr>\n",
              "    <tr>\n",
              "      <th>2020-02-04</th>\n",
              "      <td>-0.003242</td>\n",
              "      <td>-0.012185</td>\n",
              "      <td>0.025492</td>\n",
              "      <td>0.002831</td>\n",
              "      <td>-6.786835e+08</td>\n",
              "      <td>-1.040913e+09</td>\n",
              "      <td>1.093337e+07</td>\n",
              "      <td>-0.005582</td>\n",
              "      <td>117.0</td>\n",
              "      <td>0.318094</td>\n",
              "      <td>17.0</td>\n",
              "      <td>-0.731707</td>\n",
              "      <td>-2.898776e+09</td>\n",
              "      <td>0.014869</td>\n",
              "      <td>-0.112995</td>\n",
              "      <td>0.020764</td>\n",
              "    </tr>\n",
              "    <tr>\n",
              "      <th>...</th>\n",
              "      <td>...</td>\n",
              "      <td>...</td>\n",
              "      <td>...</td>\n",
              "      <td>...</td>\n",
              "      <td>...</td>\n",
              "      <td>...</td>\n",
              "      <td>...</td>\n",
              "      <td>...</td>\n",
              "      <td>...</td>\n",
              "      <td>...</td>\n",
              "      <td>...</td>\n",
              "      <td>...</td>\n",
              "      <td>...</td>\n",
              "      <td>...</td>\n",
              "      <td>...</td>\n",
              "      <td>...</td>\n",
              "    </tr>\n",
              "    <tr>\n",
              "      <th>2021-06-25</th>\n",
              "      <td>-0.092256</td>\n",
              "      <td>-0.091305</td>\n",
              "      <td>-0.094221</td>\n",
              "      <td>-0.000304</td>\n",
              "      <td>2.501489e+09</td>\n",
              "      <td>7.107536e+09</td>\n",
              "      <td>1.697515e+09</td>\n",
              "      <td>-0.095105</td>\n",
              "      <td>-1635.0</td>\n",
              "      <td>-0.005971</td>\n",
              "      <td>-182.0</td>\n",
              "      <td>4.384615</td>\n",
              "      <td>1.180157e+10</td>\n",
              "      <td>0.003325</td>\n",
              "      <td>-0.022160</td>\n",
              "      <td>-0.000649</td>\n",
              "    </tr>\n",
              "    <tr>\n",
              "      <th>2021-06-26</th>\n",
              "      <td>0.008797</td>\n",
              "      <td>0.017188</td>\n",
              "      <td>0.023273</td>\n",
              "      <td>0.001368</td>\n",
              "      <td>-2.136793e+09</td>\n",
              "      <td>-1.645519e+09</td>\n",
              "      <td>-2.892706e+09</td>\n",
              "      <td>0.025388</td>\n",
              "      <td>-915.0</td>\n",
              "      <td>-0.009688</td>\n",
              "      <td>8.0</td>\n",
              "      <td>-2.923077</td>\n",
              "      <td>-6.112977e+09</td>\n",
              "      <td>NaN</td>\n",
              "      <td>NaN</td>\n",
              "      <td>NaN</td>\n",
              "    </tr>\n",
              "    <tr>\n",
              "      <th>2021-06-27</th>\n",
              "      <td>0.078638</td>\n",
              "      <td>0.073747</td>\n",
              "      <td>0.077276</td>\n",
              "      <td>-0.000571</td>\n",
              "      <td>-7.520676e+08</td>\n",
              "      <td>-3.073745e+09</td>\n",
              "      <td>-4.819356e+08</td>\n",
              "      <td>-0.052542</td>\n",
              "      <td>-1084.0</td>\n",
              "      <td>0.000690</td>\n",
              "      <td>-281.0</td>\n",
              "      <td>-5.076923</td>\n",
              "      <td>-7.165088e+09</td>\n",
              "      <td>NaN</td>\n",
              "      <td>NaN</td>\n",
              "      <td>NaN</td>\n",
              "    </tr>\n",
              "    <tr>\n",
              "      <th>2021-06-28</th>\n",
              "      <td>0.049665</td>\n",
              "      <td>-0.006233</td>\n",
              "      <td>-0.029133</td>\n",
              "      <td>-0.000714</td>\n",
              "      <td>5.629128e+09</td>\n",
              "      <td>-1.619117e+09</td>\n",
              "      <td>-2.345269e+08</td>\n",
              "      <td>0.036089</td>\n",
              "      <td>4337.0</td>\n",
              "      <td>0.010241</td>\n",
              "      <td>155.0</td>\n",
              "      <td>5.454545</td>\n",
              "      <td>3.615067e+09</td>\n",
              "      <td>0.002312</td>\n",
              "      <td>0.008923</td>\n",
              "      <td>0.009710</td>\n",
              "    </tr>\n",
              "    <tr>\n",
              "      <th>2021-06-29</th>\n",
              "      <td>0.038261</td>\n",
              "      <td>0.040785</td>\n",
              "      <td>0.022756</td>\n",
              "      <td>0.000096</td>\n",
              "      <td>-6.994784e+08</td>\n",
              "      <td>4.008936e+09</td>\n",
              "      <td>2.595680e+08</td>\n",
              "      <td>-0.027825</td>\n",
              "      <td>671.0</td>\n",
              "      <td>-0.039251</td>\n",
              "      <td>-68.0</td>\n",
              "      <td>2.727273</td>\n",
              "      <td>8.094669e+09</td>\n",
              "      <td>0.000277</td>\n",
              "      <td>0.016363</td>\n",
              "      <td>0.001917</td>\n",
              "    </tr>\n",
              "  </tbody>\n",
              "</table>\n",
              "<p>516 rows × 16 columns</p>\n",
              "</div>"
            ],
            "text/plain": [
              "            eth_close  btc_close  ...  close_vix  close_nasdaq\n",
              "date                              ...                         \n",
              "2020-01-31  -0.024835  -0.016805  ...   0.195788     -0.016043\n",
              "2020-02-01   0.019316   0.004518  ...        NaN           NaN\n",
              "2020-02-02   0.026559  -0.005178  ...        NaN           NaN\n",
              "2020-02-03   0.006592  -0.005456  ...  -0.047279      0.013293\n",
              "2020-02-04  -0.003242  -0.012185  ...  -0.112995      0.020764\n",
              "...               ...        ...  ...        ...           ...\n",
              "2021-06-25  -0.092256  -0.091305  ...  -0.022160     -0.000649\n",
              "2021-06-26   0.008797   0.017188  ...        NaN           NaN\n",
              "2021-06-27   0.078638   0.073747  ...        NaN           NaN\n",
              "2021-06-28   0.049665  -0.006233  ...   0.008923      0.009710\n",
              "2021-06-29   0.038261   0.040785  ...   0.016363      0.001917\n",
              "\n",
              "[516 rows x 16 columns]"
            ]
          },
          "metadata": {},
          "execution_count": 4
        }
      ]
    },
    {
      "cell_type": "code",
      "metadata": {
        "id": "gkMCTwFzz1PU"
      },
      "source": [
        "# Filling missing values with mean value:\n",
        "columns = ['close_s&p500','close_vix','close_nasdaq']\n",
        "df1 = df.copy()\n",
        "df1 = df1.fillna(df.mean())"
      ],
      "execution_count": null,
      "outputs": []
    },
    {
      "cell_type": "code",
      "metadata": {
        "id": "U1OE-qof3U9F",
        "colab": {
          "base_uri": "https://localhost:8080/",
          "height": 314
        },
        "outputId": "442ce444-19d3-4e49-e68b-1aa7e7c3177c"
      },
      "source": [
        "df1.describe()"
      ],
      "execution_count": null,
      "outputs": [
        {
          "output_type": "execute_result",
          "data": {
            "text/html": [
              "<div>\n",
              "<style scoped>\n",
              "    .dataframe tbody tr th:only-of-type {\n",
              "        vertical-align: middle;\n",
              "    }\n",
              "\n",
              "    .dataframe tbody tr th {\n",
              "        vertical-align: top;\n",
              "    }\n",
              "\n",
              "    .dataframe thead th {\n",
              "        text-align: right;\n",
              "    }\n",
              "</style>\n",
              "<table border=\"1\" class=\"dataframe\">\n",
              "  <thead>\n",
              "    <tr style=\"text-align: right;\">\n",
              "      <th></th>\n",
              "      <th>eth_close</th>\n",
              "      <th>btc_close</th>\n",
              "      <th>dog_close</th>\n",
              "      <th>usdt_close</th>\n",
              "      <th>eth_volume</th>\n",
              "      <th>btc_volume</th>\n",
              "      <th>dog_volume</th>\n",
              "      <th>tw_eth_mean_vader</th>\n",
              "      <th>tw_eth_count</th>\n",
              "      <th>rd_eth_mean_vader</th>\n",
              "      <th>rd_eth_count</th>\n",
              "      <th>gt_eth_adjusted</th>\n",
              "      <th>usdt_volume</th>\n",
              "      <th>close_s&amp;p500</th>\n",
              "      <th>close_vix</th>\n",
              "      <th>close_nasdaq</th>\n",
              "    </tr>\n",
              "  </thead>\n",
              "  <tbody>\n",
              "    <tr>\n",
              "      <th>count</th>\n",
              "      <td>516.000000</td>\n",
              "      <td>516.000000</td>\n",
              "      <td>516.000000</td>\n",
              "      <td>516.000000</td>\n",
              "      <td>5.160000e+02</td>\n",
              "      <td>5.160000e+02</td>\n",
              "      <td>5.160000e+02</td>\n",
              "      <td>516.000000</td>\n",
              "      <td>516.000000</td>\n",
              "      <td>516.000000</td>\n",
              "      <td>516.000000</td>\n",
              "      <td>516.000000</td>\n",
              "      <td>5.160000e+02</td>\n",
              "      <td>516.000000</td>\n",
              "      <td>516.000000</td>\n",
              "      <td>516.000000</td>\n",
              "    </tr>\n",
              "    <tr>\n",
              "      <th>mean</th>\n",
              "      <td>0.004767</td>\n",
              "      <td>0.002573</td>\n",
              "      <td>0.009068</td>\n",
              "      <td>-0.000003</td>\n",
              "      <td>2.366344e+07</td>\n",
              "      <td>1.070284e+07</td>\n",
              "      <td>4.086424e+06</td>\n",
              "      <td>-0.000009</td>\n",
              "      <td>16.988372</td>\n",
              "      <td>-0.000136</td>\n",
              "      <td>1.352713</td>\n",
              "      <td>0.066244</td>\n",
              "      <td>4.117007e+07</td>\n",
              "      <td>0.000752</td>\n",
              "      <td>0.000095</td>\n",
              "      <td>0.001253</td>\n",
              "    </tr>\n",
              "    <tr>\n",
              "      <th>std</th>\n",
              "      <td>0.058856</td>\n",
              "      <td>0.043944</td>\n",
              "      <td>0.111940</td>\n",
              "      <td>0.004718</td>\n",
              "      <td>6.045298e+09</td>\n",
              "      <td>2.165411e+10</td>\n",
              "      <td>4.292960e+09</td>\n",
              "      <td>0.023721</td>\n",
              "      <td>1270.561380</td>\n",
              "      <td>0.071723</td>\n",
              "      <td>215.038890</td>\n",
              "      <td>7.906189</td>\n",
              "      <td>1.892601e+10</td>\n",
              "      <td>0.015803</td>\n",
              "      <td>0.074710</td>\n",
              "      <td>0.016877</td>\n",
              "    </tr>\n",
              "    <tr>\n",
              "      <th>min</th>\n",
              "      <td>-0.550732</td>\n",
              "      <td>-0.464730</td>\n",
              "      <td>-0.515118</td>\n",
              "      <td>-0.052570</td>\n",
              "      <td>-3.022394e+10</td>\n",
              "      <td>-3.050570e+11</td>\n",
              "      <td>-3.799728e+10</td>\n",
              "      <td>-0.095105</td>\n",
              "      <td>-6468.000000</td>\n",
              "      <td>-0.270707</td>\n",
              "      <td>-1253.000000</td>\n",
              "      <td>-36.842105</td>\n",
              "      <td>-9.566314e+10</td>\n",
              "      <td>-0.127652</td>\n",
              "      <td>-0.266228</td>\n",
              "      <td>-0.131492</td>\n",
              "    </tr>\n",
              "    <tr>\n",
              "      <th>25%</th>\n",
              "      <td>-0.020265</td>\n",
              "      <td>-0.013953</td>\n",
              "      <td>-0.022799</td>\n",
              "      <td>-0.000750</td>\n",
              "      <td>-2.316805e+09</td>\n",
              "      <td>-4.385983e+09</td>\n",
              "      <td>-3.025735e+07</td>\n",
              "      <td>-0.013044</td>\n",
              "      <td>-377.000000</td>\n",
              "      <td>-0.040509</td>\n",
              "      <td>-59.000000</td>\n",
              "      <td>-1.275974</td>\n",
              "      <td>-6.670556e+09</td>\n",
              "      <td>-0.001590</td>\n",
              "      <td>-0.029311</td>\n",
              "      <td>-0.000966</td>\n",
              "    </tr>\n",
              "    <tr>\n",
              "      <th>50%</th>\n",
              "      <td>0.005985</td>\n",
              "      <td>0.002496</td>\n",
              "      <td>0.000000</td>\n",
              "      <td>-0.000008</td>\n",
              "      <td>-2.454842e+06</td>\n",
              "      <td>-1.558302e+08</td>\n",
              "      <td>-2.667508e+06</td>\n",
              "      <td>0.001016</td>\n",
              "      <td>-15.000000</td>\n",
              "      <td>-0.001687</td>\n",
              "      <td>-6.000000</td>\n",
              "      <td>-0.087016</td>\n",
              "      <td>1.899312e+06</td>\n",
              "      <td>0.000752</td>\n",
              "      <td>0.000095</td>\n",
              "      <td>0.001253</td>\n",
              "    </tr>\n",
              "    <tr>\n",
              "      <th>75%</th>\n",
              "      <td>0.033272</td>\n",
              "      <td>0.020317</td>\n",
              "      <td>0.020884</td>\n",
              "      <td>0.000862</td>\n",
              "      <td>2.019769e+09</td>\n",
              "      <td>4.775606e+09</td>\n",
              "      <td>1.510489e+07</td>\n",
              "      <td>0.013089</td>\n",
              "      <td>348.250000</td>\n",
              "      <td>0.040609</td>\n",
              "      <td>50.200000</td>\n",
              "      <td>1.167202</td>\n",
              "      <td>6.962274e+09</td>\n",
              "      <td>0.005211</td>\n",
              "      <td>0.012472</td>\n",
              "      <td>0.007166</td>\n",
              "    </tr>\n",
              "    <tr>\n",
              "      <th>max</th>\n",
              "      <td>0.230695</td>\n",
              "      <td>0.171821</td>\n",
              "      <td>1.323469</td>\n",
              "      <td>0.053393</td>\n",
              "      <td>4.406639e+10</td>\n",
              "      <td>2.964614e+11</td>\n",
              "      <td>5.149406e+10</td>\n",
              "      <td>0.095100</td>\n",
              "      <td>11244.000000</td>\n",
              "      <td>0.318094</td>\n",
              "      <td>1701.000000</td>\n",
              "      <td>73.385965</td>\n",
              "      <td>1.395697e+11</td>\n",
              "      <td>0.089683</td>\n",
              "      <td>0.480214</td>\n",
              "      <td>0.089347</td>\n",
              "    </tr>\n",
              "  </tbody>\n",
              "</table>\n",
              "</div>"
            ],
            "text/plain": [
              "        eth_close   btc_close  ...   close_vix  close_nasdaq\n",
              "count  516.000000  516.000000  ...  516.000000    516.000000\n",
              "mean     0.004767    0.002573  ...    0.000095      0.001253\n",
              "std      0.058856    0.043944  ...    0.074710      0.016877\n",
              "min     -0.550732   -0.464730  ...   -0.266228     -0.131492\n",
              "25%     -0.020265   -0.013953  ...   -0.029311     -0.000966\n",
              "50%      0.005985    0.002496  ...    0.000095      0.001253\n",
              "75%      0.033272    0.020317  ...    0.012472      0.007166\n",
              "max      0.230695    0.171821  ...    0.480214      0.089347\n",
              "\n",
              "[8 rows x 16 columns]"
            ]
          },
          "metadata": {},
          "execution_count": 6
        }
      ]
    },
    {
      "cell_type": "code",
      "metadata": {
        "id": "rE0MWUVL0c85",
        "colab": {
          "base_uri": "https://localhost:8080/"
        },
        "outputId": "1b8223c0-fd62-4178-c978-0e5ed58f1faf"
      },
      "source": [
        "# defining train and test data set: \n",
        "train_size = int(len(df1)*0.9)\n",
        "test_size = len(df1) - train_size \n",
        "\n",
        "train,test=df1.iloc[0:train_size],df1.iloc[train_size:len(df1)]\n",
        "print(len(train),len(test))"
      ],
      "execution_count": null,
      "outputs": [
        {
          "output_type": "stream",
          "name": "stdout",
          "text": [
            "464 52\n"
          ]
        }
      ]
    },
    {
      "cell_type": "markdown",
      "metadata": {
        "id": "jJhoewYjKnHG"
      },
      "source": [
        "## Preparing for Time Series Forecasting\n",
        "\n",
        "This step changes data so that the value at the current time step will be predicted by using previous n-time steps value \n",
        "\n",
        "Source: https://gist.github.com/curiousily/02f6c7448069dce96cd3f74be4795e29"
      ]
    },
    {
      "cell_type": "code",
      "metadata": {
        "id": "VwSlZfxR1Bbh"
      },
      "source": [
        "def create_dataset(X,y,time_steps=1):\n",
        "  Xs,ys = [],[]\n",
        "  for i in range(len(X)-time_steps):\n",
        "    v = X.iloc[i:(i+time_steps)].values \n",
        "    Xs.append(v)\n",
        "    ys.append(y.iloc[i+time_steps])\n",
        "  return np.array(Xs),np.array(ys)"
      ],
      "execution_count": null,
      "outputs": []
    },
    {
      "cell_type": "code",
      "metadata": {
        "id": "gufxT6JW2Knm"
      },
      "source": [
        "time_steps = 5"
      ],
      "execution_count": null,
      "outputs": []
    },
    {
      "cell_type": "code",
      "metadata": {
        "id": "dSblndBb2OTf"
      },
      "source": [
        "X_train,y_train=create_dataset(train,train.eth_close,time_steps)\n",
        "X_test,y_test=create_dataset(test,test.eth_close,time_steps)"
      ],
      "execution_count": null,
      "outputs": []
    },
    {
      "cell_type": "code",
      "metadata": {
        "id": "mOiSaSLEFx_N",
        "colab": {
          "base_uri": "https://localhost:8080/"
        },
        "outputId": "a506306f-e1c0-4c9c-baa4-4c91c66b5552"
      },
      "source": [
        "print(X_train.shape,y_train.shape)"
      ],
      "execution_count": null,
      "outputs": [
        {
          "output_type": "stream",
          "name": "stdout",
          "text": [
            "(459, 5, 16) (459,)\n"
          ]
        }
      ]
    },
    {
      "cell_type": "code",
      "metadata": {
        "id": "dCdtB2bZFV-N",
        "colab": {
          "base_uri": "https://localhost:8080/"
        },
        "outputId": "3a96d666-fe8a-4138-dd75-1b46b7550ade"
      },
      "source": [
        "print(X_train[0],y_train[0])"
      ],
      "execution_count": null,
      "outputs": [
        {
          "output_type": "stream",
          "name": "stdout",
          "text": [
            "[[-2.48350161e-02 -1.68050487e-02 -1.90324322e-02 -8.03156729e-04\n",
            "  -8.76172944e+08 -2.94630313e+09 -7.44861900e+06  1.51977965e-02\n",
            "   1.30000000e+02  6.51772561e-02  8.40000000e+01 -5.45454545e-01\n",
            "  -3.12787275e+09 -1.78644764e-02  1.95787615e-01 -1.60426530e-02]\n",
            " [ 1.93158752e-02  4.51847214e-03  1.16280380e-02  5.67471132e-04\n",
            "  -1.58919212e+08 -3.50983322e+09  2.21153500e+06 -1.31007739e-02\n",
            "  -5.37000000e+02 -4.59262588e-02 -9.10000000e+01 -6.36363636e-01\n",
            "  -5.73378539e+09  7.52099920e-04  9.45036158e-05  1.25337426e-03]\n",
            " [ 2.65591815e-02 -5.17791028e-03  1.88144609e-02 -6.71409185e-04\n",
            "   2.48472821e+09  4.91308045e+09  1.28216850e+07  1.39418143e-02\n",
            "   1.73000000e+02 -7.65793251e-02  4.50000000e+01  2.18181818e+00\n",
            "   5.79755523e+09  7.52099920e-04  9.45036158e-05  1.25337426e-03]\n",
            " [ 6.59228985e-03 -5.45597008e-03 -1.14100667e-02 -1.63144330e-03\n",
            "  -1.66155015e+09  9.83595630e+07 -1.26958840e+07 -3.20906796e-02\n",
            "   1.67000000e+02  9.14795669e-03 -1.06000000e+02  6.09756098e-01\n",
            "  -7.11135825e+08  7.22845586e-03 -4.72786240e-02  1.32934758e-02]\n",
            " [-3.24160988e-03 -1.21854536e-02  2.54919731e-02  2.83107047e-03\n",
            "  -6.78683546e+08 -1.04091279e+09  1.09333710e+07 -5.58221024e-03\n",
            "   1.17000000e+02  3.18093815e-01  1.70000000e+01 -7.31707317e-01\n",
            "  -2.89877596e+09  1.48692652e-02 -1.12994858e-01  2.07643652e-02]] 0.07617594857199705\n"
          ]
        }
      ]
    },
    {
      "cell_type": "markdown",
      "metadata": {
        "id": "apVb5ebDGHmh"
      },
      "source": [
        "## Modeling\n",
        "\n",
        "Sequential LSTM  Keras Model"
      ]
    },
    {
      "cell_type": "code",
      "metadata": {
        "id": "7gYGcvqP2-pL",
        "colab": {
          "base_uri": "https://localhost:8080/"
        },
        "outputId": "aae00489-41f1-464c-e50b-aa0c8f9bac6b"
      },
      "source": [
        "print('Input shape is:',X_train.shape[1],X_train.shape[2])\n",
        "model = keras.Sequential()\n",
        "model.add(keras.layers.LSTM(\n",
        "    units = 128,\n",
        "    input_shape=(X_train.shape[1],X_train.shape[2])\n",
        "))\n",
        "model.add(keras.layers.Dense(units=1))\n",
        "model.compile(\n",
        "    loss = 'mean_squared_error',\n",
        "    optimizer = keras.optimizers.Adam(0.001)\n",
        ")"
      ],
      "execution_count": null,
      "outputs": [
        {
          "output_type": "stream",
          "name": "stdout",
          "text": [
            "Input shape is: 5 16\n"
          ]
        }
      ]
    },
    {
      "cell_type": "markdown",
      "metadata": {
        "id": "PSMdc1BiH2wK"
      },
      "source": [
        "### Training: "
      ]
    },
    {
      "cell_type": "code",
      "metadata": {
        "id": "zAw16dNgHzcC"
      },
      "source": [
        "history = model.fit(\n",
        "    X_train,y_train,\n",
        "    epochs=300,\n",
        "    batch_size=16,\n",
        "    validation_split = 0.1,\n",
        "    verbose=0,\n",
        "    shuffle=False\n",
        ")"
      ],
      "execution_count": null,
      "outputs": []
    },
    {
      "cell_type": "code",
      "metadata": {
        "id": "ZcWbVORPIDwT",
        "colab": {
          "base_uri": "https://localhost:8080/",
          "height": 282
        },
        "outputId": "1d46f51e-0e3b-4aa4-bae4-bf839ebc1766"
      },
      "source": [
        "plt.plot(history.history['loss'], label='Training loss')\n",
        "plt.plot(history.history['val_loss'], label='Validation loss')\n",
        "plt.legend()"
      ],
      "execution_count": null,
      "outputs": [
        {
          "output_type": "execute_result",
          "data": {
            "text/plain": [
              "<matplotlib.legend.Legend at 0x7f16ac53e210>"
            ]
          },
          "metadata": {},
          "execution_count": 15
        },
        {
          "output_type": "display_data",
          "data": {
            "image/png": "[encoded data removed]",
            "text/plain": [
              "<Figure size 432x288 with 1 Axes>"
            ]
          },
          "metadata": {
            "needs_background": "light"
          }
        }
      ]
    },
    {
      "cell_type": "markdown",
      "metadata": {
        "id": "puWLeXkmIiCt"
      },
      "source": [
        "## Making Predictions: "
      ]
    },
    {
      "cell_type": "code",
      "metadata": {
        "id": "R6Dvuf_ZIXLj"
      },
      "source": [
        "y_pred=model.predict(X_test)"
      ],
      "execution_count": null,
      "outputs": []
    },
    {
      "cell_type": "code",
      "metadata": {
        "id": "Xw0C4NFvInJo",
        "colab": {
          "base_uri": "https://localhost:8080/",
          "height": 278
        },
        "outputId": "59f880c4-746b-48de-bc41-5aace4b9dc0b"
      },
      "source": [
        "plt.plot(np.arange(0, len(y_train)), y_train, 'g', label=\"history\")\n",
        "plt.plot(np.arange(len(y_train), len(y_train) + len(y_test)), y_test, marker='.', label=\"true\")\n",
        "plt.plot(np.arange(len(y_train), len(y_train) + len(y_test)), y_pred, 'r', label=\"prediction\")\n",
        "plt.ylabel('ETH Close')\n",
        "plt.xlabel('Time Step')\n",
        "plt.legend()\n",
        "plt.show();"
      ],
      "execution_count": null,
      "outputs": [
        {
          "output_type": "display_data",
          "data": {
            "image/png": "[encoded data removed]",
            "text/plain": [
              "<Figure size 432x288 with 1 Axes>"
            ]
          },
          "metadata": {
            "needs_background": "light"
          }
        }
      ]
    },
    {
      "cell_type": "code",
      "metadata": {
        "id": "PJr3kp8eJEPO",
        "colab": {
          "base_uri": "https://localhost:8080/",
          "height": 278
        },
        "outputId": "a3e739e5-10b8-47ca-e6c3-841e7ac2e4c4"
      },
      "source": [
        "plt.plot(y_test, marker='.', label=\"true\")\n",
        "plt.plot(y_pred, 'r', label=\"prediction\")\n",
        "plt.ylabel('ETH Close')\n",
        "plt.xlabel('Time Step')\n",
        "plt.legend()\n",
        "plt.show();"
      ],
      "execution_count": null,
      "outputs": [
        {
          "output_type": "display_data",
          "data": {
            "image/png": "[encoded data removed]",
            "text/plain": [
              "<Figure size 432x288 with 1 Axes>"
            ]
          },
          "metadata": {
            "needs_background": "light"
          }
        }
      ]
    },
    {
      "cell_type": "code",
      "metadata": {
        "id": "uecuXZqhPHu8",
        "colab": {
          "base_uri": "https://localhost:8080/"
        },
        "outputId": "d4445120-f856-47bc-9ac1-196292dda67a"
      },
      "source": [
        "import sklearn.metrics as sm\n",
        "print(\"Mean absolute error =\", \n",
        "      round(sm.mean_absolute_error(y_test, y_pred), 5)) \n",
        "print(\"Mean squared error =\", \n",
        "      round(sm.mean_squared_error(y_test, y_pred), 5)) \n",
        "print(\"Root mean squared error:\",\n",
        "      round(sm.mean_squared_error(y_test,y_pred)**0.5,5))\n",
        "print(\"Median absolute error =\", \n",
        "      round(sm.median_absolute_error(y_test, y_pred), 5)) \n",
        "print(\"Explain variance score =\", \n",
        "      round(sm.explained_variance_score(y_test, y_pred), 5)) \n",
        "print(\"R2 score =\", \n",
        "      round(sm.r2_score(y_test, y_pred), 5))"
      ],
      "execution_count": null,
      "outputs": [
        {
          "output_type": "stream",
          "name": "stdout",
          "text": [
            "Mean absolute error = 0.07992\n",
            "Mean squared error = 0.00991\n",
            "Root mean squared error: 0.09957\n",
            "Median absolute error = 0.07166\n",
            "Explain variance score = -0.29063\n",
            "R2 score = -0.30966\n"
          ]
        }
      ]
    },
    {
      "cell_type": "markdown",
      "metadata": {
        "id": "YMsc57WvJ_mZ"
      },
      "source": [
        "# With -1 as NaN Value: "
      ]
    },
    {
      "cell_type": "markdown",
      "metadata": {
        "id": "Iuvw6ceZK3JF"
      },
      "source": [
        "## Preparing DF and Train and Test:"
      ]
    },
    {
      "cell_type": "code",
      "metadata": {
        "id": "Mhk_n6dfJc48",
        "colab": {
          "base_uri": "https://localhost:8080/",
          "height": 335
        },
        "outputId": "315440d8-aa3a-4146-c8be-ed18050af84a"
      },
      "source": [
        "df = pd.read_csv(io.BytesIO(uploaded['eth_mix_log_diff_return1611.csv']))\n",
        "df['date'] = pd.to_datetime(df['date'])\n",
        "df.set_index('date', inplace=True)\n",
        "df.head()"
      ],
      "execution_count": null,
      "outputs": [
        {
          "output_type": "execute_result",
          "data": {
            "text/html": [
              "<div>\n",
              "<style scoped>\n",
              "    .dataframe tbody tr th:only-of-type {\n",
              "        vertical-align: middle;\n",
              "    }\n",
              "\n",
              "    .dataframe tbody tr th {\n",
              "        vertical-align: top;\n",
              "    }\n",
              "\n",
              "    .dataframe thead th {\n",
              "        text-align: right;\n",
              "    }\n",
              "</style>\n",
              "<table border=\"1\" class=\"dataframe\">\n",
              "  <thead>\n",
              "    <tr style=\"text-align: right;\">\n",
              "      <th></th>\n",
              "      <th>eth_close</th>\n",
              "      <th>btc_close</th>\n",
              "      <th>dog_close</th>\n",
              "      <th>usdt_close</th>\n",
              "      <th>eth_volume</th>\n",
              "      <th>btc_volume</th>\n",
              "      <th>dog_volume</th>\n",
              "      <th>tw_eth_mean_vader</th>\n",
              "      <th>tw_eth_count</th>\n",
              "      <th>rd_eth_mean_vader</th>\n",
              "      <th>rd_eth_count</th>\n",
              "      <th>gt_eth_adjusted</th>\n",
              "      <th>usdt_volume</th>\n",
              "      <th>close_s&amp;p500</th>\n",
              "      <th>close_vix</th>\n",
              "      <th>close_nasdaq</th>\n",
              "    </tr>\n",
              "    <tr>\n",
              "      <th>date</th>\n",
              "      <th></th>\n",
              "      <th></th>\n",
              "      <th></th>\n",
              "      <th></th>\n",
              "      <th></th>\n",
              "      <th></th>\n",
              "      <th></th>\n",
              "      <th></th>\n",
              "      <th></th>\n",
              "      <th></th>\n",
              "      <th></th>\n",
              "      <th></th>\n",
              "      <th></th>\n",
              "      <th></th>\n",
              "      <th></th>\n",
              "      <th></th>\n",
              "    </tr>\n",
              "  </thead>\n",
              "  <tbody>\n",
              "    <tr>\n",
              "      <th>2020-01-31</th>\n",
              "      <td>-0.024835</td>\n",
              "      <td>-0.016805</td>\n",
              "      <td>-0.019032</td>\n",
              "      <td>-0.000803</td>\n",
              "      <td>-8.761729e+08</td>\n",
              "      <td>-2.946303e+09</td>\n",
              "      <td>-7448619.0</td>\n",
              "      <td>0.015198</td>\n",
              "      <td>130.0</td>\n",
              "      <td>0.065177</td>\n",
              "      <td>84.0</td>\n",
              "      <td>-0.545455</td>\n",
              "      <td>-3.127873e+09</td>\n",
              "      <td>-0.017864</td>\n",
              "      <td>0.195788</td>\n",
              "      <td>-0.016043</td>\n",
              "    </tr>\n",
              "    <tr>\n",
              "      <th>2020-02-01</th>\n",
              "      <td>0.019316</td>\n",
              "      <td>0.004518</td>\n",
              "      <td>0.011628</td>\n",
              "      <td>0.000567</td>\n",
              "      <td>-1.589192e+08</td>\n",
              "      <td>-3.509833e+09</td>\n",
              "      <td>2211535.0</td>\n",
              "      <td>-0.013101</td>\n",
              "      <td>-537.0</td>\n",
              "      <td>-0.045926</td>\n",
              "      <td>-91.0</td>\n",
              "      <td>-0.636364</td>\n",
              "      <td>-5.733785e+09</td>\n",
              "      <td>NaN</td>\n",
              "      <td>NaN</td>\n",
              "      <td>NaN</td>\n",
              "    </tr>\n",
              "    <tr>\n",
              "      <th>2020-02-02</th>\n",
              "      <td>0.026559</td>\n",
              "      <td>-0.005178</td>\n",
              "      <td>0.018814</td>\n",
              "      <td>-0.000671</td>\n",
              "      <td>2.484728e+09</td>\n",
              "      <td>4.913080e+09</td>\n",
              "      <td>12821685.0</td>\n",
              "      <td>0.013942</td>\n",
              "      <td>173.0</td>\n",
              "      <td>-0.076579</td>\n",
              "      <td>45.0</td>\n",
              "      <td>2.181818</td>\n",
              "      <td>5.797555e+09</td>\n",
              "      <td>NaN</td>\n",
              "      <td>NaN</td>\n",
              "      <td>NaN</td>\n",
              "    </tr>\n",
              "    <tr>\n",
              "      <th>2020-02-03</th>\n",
              "      <td>0.006592</td>\n",
              "      <td>-0.005456</td>\n",
              "      <td>-0.011410</td>\n",
              "      <td>-0.001631</td>\n",
              "      <td>-1.661550e+09</td>\n",
              "      <td>9.835956e+07</td>\n",
              "      <td>-12695884.0</td>\n",
              "      <td>-0.032091</td>\n",
              "      <td>167.0</td>\n",
              "      <td>0.009148</td>\n",
              "      <td>-106.0</td>\n",
              "      <td>0.609756</td>\n",
              "      <td>-7.111358e+08</td>\n",
              "      <td>0.007228</td>\n",
              "      <td>-0.047279</td>\n",
              "      <td>0.013293</td>\n",
              "    </tr>\n",
              "    <tr>\n",
              "      <th>2020-02-04</th>\n",
              "      <td>-0.003242</td>\n",
              "      <td>-0.012185</td>\n",
              "      <td>0.025492</td>\n",
              "      <td>0.002831</td>\n",
              "      <td>-6.786835e+08</td>\n",
              "      <td>-1.040913e+09</td>\n",
              "      <td>10933371.0</td>\n",
              "      <td>-0.005582</td>\n",
              "      <td>117.0</td>\n",
              "      <td>0.318094</td>\n",
              "      <td>17.0</td>\n",
              "      <td>-0.731707</td>\n",
              "      <td>-2.898776e+09</td>\n",
              "      <td>0.014869</td>\n",
              "      <td>-0.112995</td>\n",
              "      <td>0.020764</td>\n",
              "    </tr>\n",
              "  </tbody>\n",
              "</table>\n",
              "</div>"
            ],
            "text/plain": [
              "            eth_close  btc_close  ...  close_vix  close_nasdaq\n",
              "date                              ...                         \n",
              "2020-01-31  -0.024835  -0.016805  ...   0.195788     -0.016043\n",
              "2020-02-01   0.019316   0.004518  ...        NaN           NaN\n",
              "2020-02-02   0.026559  -0.005178  ...        NaN           NaN\n",
              "2020-02-03   0.006592  -0.005456  ...  -0.047279      0.013293\n",
              "2020-02-04  -0.003242  -0.012185  ...  -0.112995      0.020764\n",
              "\n",
              "[5 rows x 16 columns]"
            ]
          },
          "metadata": {},
          "execution_count": 20
        }
      ]
    },
    {
      "cell_type": "code",
      "metadata": {
        "id": "9K-Z-NVXKG4p",
        "colab": {
          "base_uri": "https://localhost:8080/",
          "height": 335
        },
        "outputId": "d97f8591-1ace-441f-f045-cb27892fd1bf"
      },
      "source": [
        "columns = ['close_s&p500','close_vix','close_nasdaq']\n",
        "df2 = df.copy()\n",
        "df2 = df1.fillna(-1)\n",
        "df2.head()"
      ],
      "execution_count": null,
      "outputs": [
        {
          "output_type": "execute_result",
          "data": {
            "text/html": [
              "<div>\n",
              "<style scoped>\n",
              "    .dataframe tbody tr th:only-of-type {\n",
              "        vertical-align: middle;\n",
              "    }\n",
              "\n",
              "    .dataframe tbody tr th {\n",
              "        vertical-align: top;\n",
              "    }\n",
              "\n",
              "    .dataframe thead th {\n",
              "        text-align: right;\n",
              "    }\n",
              "</style>\n",
              "<table border=\"1\" class=\"dataframe\">\n",
              "  <thead>\n",
              "    <tr style=\"text-align: right;\">\n",
              "      <th></th>\n",
              "      <th>eth_close</th>\n",
              "      <th>btc_close</th>\n",
              "      <th>dog_close</th>\n",
              "      <th>usdt_close</th>\n",
              "      <th>eth_volume</th>\n",
              "      <th>btc_volume</th>\n",
              "      <th>dog_volume</th>\n",
              "      <th>tw_eth_mean_vader</th>\n",
              "      <th>tw_eth_count</th>\n",
              "      <th>rd_eth_mean_vader</th>\n",
              "      <th>rd_eth_count</th>\n",
              "      <th>gt_eth_adjusted</th>\n",
              "      <th>usdt_volume</th>\n",
              "      <th>close_s&amp;p500</th>\n",
              "      <th>close_vix</th>\n",
              "      <th>close_nasdaq</th>\n",
              "    </tr>\n",
              "    <tr>\n",
              "      <th>date</th>\n",
              "      <th></th>\n",
              "      <th></th>\n",
              "      <th></th>\n",
              "      <th></th>\n",
              "      <th></th>\n",
              "      <th></th>\n",
              "      <th></th>\n",
              "      <th></th>\n",
              "      <th></th>\n",
              "      <th></th>\n",
              "      <th></th>\n",
              "      <th></th>\n",
              "      <th></th>\n",
              "      <th></th>\n",
              "      <th></th>\n",
              "      <th></th>\n",
              "    </tr>\n",
              "  </thead>\n",
              "  <tbody>\n",
              "    <tr>\n",
              "      <th>2020-01-31</th>\n",
              "      <td>-0.024835</td>\n",
              "      <td>-0.016805</td>\n",
              "      <td>-0.019032</td>\n",
              "      <td>-0.000803</td>\n",
              "      <td>-8.761729e+08</td>\n",
              "      <td>-2.946303e+09</td>\n",
              "      <td>-7448619.0</td>\n",
              "      <td>0.015198</td>\n",
              "      <td>130.0</td>\n",
              "      <td>0.065177</td>\n",
              "      <td>84.0</td>\n",
              "      <td>-0.545455</td>\n",
              "      <td>-3.127873e+09</td>\n",
              "      <td>-0.017864</td>\n",
              "      <td>0.195788</td>\n",
              "      <td>-0.016043</td>\n",
              "    </tr>\n",
              "    <tr>\n",
              "      <th>2020-02-01</th>\n",
              "      <td>0.019316</td>\n",
              "      <td>0.004518</td>\n",
              "      <td>0.011628</td>\n",
              "      <td>0.000567</td>\n",
              "      <td>-1.589192e+08</td>\n",
              "      <td>-3.509833e+09</td>\n",
              "      <td>2211535.0</td>\n",
              "      <td>-0.013101</td>\n",
              "      <td>-537.0</td>\n",
              "      <td>-0.045926</td>\n",
              "      <td>-91.0</td>\n",
              "      <td>-0.636364</td>\n",
              "      <td>-5.733785e+09</td>\n",
              "      <td>0.000752</td>\n",
              "      <td>0.000095</td>\n",
              "      <td>0.001253</td>\n",
              "    </tr>\n",
              "    <tr>\n",
              "      <th>2020-02-02</th>\n",
              "      <td>0.026559</td>\n",
              "      <td>-0.005178</td>\n",
              "      <td>0.018814</td>\n",
              "      <td>-0.000671</td>\n",
              "      <td>2.484728e+09</td>\n",
              "      <td>4.913080e+09</td>\n",
              "      <td>12821685.0</td>\n",
              "      <td>0.013942</td>\n",
              "      <td>173.0</td>\n",
              "      <td>-0.076579</td>\n",
              "      <td>45.0</td>\n",
              "      <td>2.181818</td>\n",
              "      <td>5.797555e+09</td>\n",
              "      <td>0.000752</td>\n",
              "      <td>0.000095</td>\n",
              "      <td>0.001253</td>\n",
              "    </tr>\n",
              "    <tr>\n",
              "      <th>2020-02-03</th>\n",
              "      <td>0.006592</td>\n",
              "      <td>-0.005456</td>\n",
              "      <td>-0.011410</td>\n",
              "      <td>-0.001631</td>\n",
              "      <td>-1.661550e+09</td>\n",
              "      <td>9.835956e+07</td>\n",
              "      <td>-12695884.0</td>\n",
              "      <td>-0.032091</td>\n",
              "      <td>167.0</td>\n",
              "      <td>0.009148</td>\n",
              "      <td>-106.0</td>\n",
              "      <td>0.609756</td>\n",
              "      <td>-7.111358e+08</td>\n",
              "      <td>0.007228</td>\n",
              "      <td>-0.047279</td>\n",
              "      <td>0.013293</td>\n",
              "    </tr>\n",
              "    <tr>\n",
              "      <th>2020-02-04</th>\n",
              "      <td>-0.003242</td>\n",
              "      <td>-0.012185</td>\n",
              "      <td>0.025492</td>\n",
              "      <td>0.002831</td>\n",
              "      <td>-6.786835e+08</td>\n",
              "      <td>-1.040913e+09</td>\n",
              "      <td>10933371.0</td>\n",
              "      <td>-0.005582</td>\n",
              "      <td>117.0</td>\n",
              "      <td>0.318094</td>\n",
              "      <td>17.0</td>\n",
              "      <td>-0.731707</td>\n",
              "      <td>-2.898776e+09</td>\n",
              "      <td>0.014869</td>\n",
              "      <td>-0.112995</td>\n",
              "      <td>0.020764</td>\n",
              "    </tr>\n",
              "  </tbody>\n",
              "</table>\n",
              "</div>"
            ],
            "text/plain": [
              "            eth_close  btc_close  ...  close_vix  close_nasdaq\n",
              "date                              ...                         \n",
              "2020-01-31  -0.024835  -0.016805  ...   0.195788     -0.016043\n",
              "2020-02-01   0.019316   0.004518  ...   0.000095      0.001253\n",
              "2020-02-02   0.026559  -0.005178  ...   0.000095      0.001253\n",
              "2020-02-03   0.006592  -0.005456  ...  -0.047279      0.013293\n",
              "2020-02-04  -0.003242  -0.012185  ...  -0.112995      0.020764\n",
              "\n",
              "[5 rows x 16 columns]"
            ]
          },
          "metadata": {},
          "execution_count": 21
        }
      ]
    },
    {
      "cell_type": "code",
      "metadata": {
        "id": "c-GIdm_HKKm3",
        "colab": {
          "base_uri": "https://localhost:8080/"
        },
        "outputId": "518c5688-7d4c-4d62-cc8f-9076f8785cd8"
      },
      "source": [
        "# defining tran and test: \n",
        "train_size = int(len(df2)*0.9)\n",
        "test_size = len(df2) - train_size \n",
        "\n",
        "train,test=df2.iloc[0:train_size],df2.iloc[train_size:len(df2)]\n",
        "print(len(train),len(test))"
      ],
      "execution_count": null,
      "outputs": [
        {
          "output_type": "stream",
          "name": "stdout",
          "text": [
            "464 52\n"
          ]
        }
      ]
    },
    {
      "cell_type": "markdown",
      "metadata": {
        "id": "FBvTJuwUKvTf"
      },
      "source": [
        "## Preparing for Time Series Forecasting\n",
        "\n",
        "This step changes data so that the value at the current time step will be predicted by using previous n-time steps value \n",
        "\n",
        "Source: https://gist.github.com/curiousily/02f6c7448069dce96cd3f74be4795e29"
      ]
    },
    {
      "cell_type": "code",
      "metadata": {
        "id": "bJnf7Tw5KvTf"
      },
      "source": [
        "def create_dataset(X,y,time_steps=1):\n",
        "  Xs,ys = [],[]\n",
        "  for i in range(len(X)-time_steps):\n",
        "    v = X.iloc[i:(i+time_steps)].values \n",
        "    Xs.append(v)\n",
        "    ys.append(y.iloc[i+time_steps])\n",
        "  return np.array(Xs),np.array(ys)"
      ],
      "execution_count": null,
      "outputs": []
    },
    {
      "cell_type": "code",
      "metadata": {
        "id": "Ve2RiXGAKvTf"
      },
      "source": [
        "time_steps = 5"
      ],
      "execution_count": null,
      "outputs": []
    },
    {
      "cell_type": "code",
      "metadata": {
        "id": "1pJwYReFKvTg"
      },
      "source": [
        "X2_train,y2_train=create_dataset(train,train.eth_close,time_steps)\n",
        "X2_test,y2_test=create_dataset(test,test.eth_close,time_steps)"
      ],
      "execution_count": null,
      "outputs": []
    },
    {
      "cell_type": "code",
      "metadata": {
        "id": "-xCTk8GqKvTg",
        "colab": {
          "base_uri": "https://localhost:8080/"
        },
        "outputId": "7ebefafa-d538-4cf6-fa8e-242a3a8e9e44"
      },
      "source": [
        "print(X2_train.shape,y2_train.shape)"
      ],
      "execution_count": null,
      "outputs": [
        {
          "output_type": "stream",
          "name": "stdout",
          "text": [
            "(459, 5, 16) (459,)\n"
          ]
        }
      ]
    },
    {
      "cell_type": "code",
      "metadata": {
        "id": "f0HYHWyBKvTg",
        "colab": {
          "base_uri": "https://localhost:8080/"
        },
        "outputId": "5c9372b6-94d7-4371-95a5-d4f1e25969ac"
      },
      "source": [
        "print(X2_train[0],y2_train[0])"
      ],
      "execution_count": null,
      "outputs": [
        {
          "output_type": "stream",
          "name": "stdout",
          "text": [
            "[[-2.48350161e-02 -1.68050487e-02 -1.90324322e-02 -8.03156729e-04\n",
            "  -8.76172944e+08 -2.94630313e+09 -7.44861900e+06  1.51977965e-02\n",
            "   1.30000000e+02  6.51772561e-02  8.40000000e+01 -5.45454545e-01\n",
            "  -3.12787275e+09 -1.78644764e-02  1.95787615e-01 -1.60426530e-02]\n",
            " [ 1.93158752e-02  4.51847214e-03  1.16280380e-02  5.67471132e-04\n",
            "  -1.58919212e+08 -3.50983322e+09  2.21153500e+06 -1.31007739e-02\n",
            "  -5.37000000e+02 -4.59262588e-02 -9.10000000e+01 -6.36363636e-01\n",
            "  -5.73378539e+09  7.52099920e-04  9.45036158e-05  1.25337426e-03]\n",
            " [ 2.65591815e-02 -5.17791028e-03  1.88144609e-02 -6.71409185e-04\n",
            "   2.48472821e+09  4.91308045e+09  1.28216850e+07  1.39418143e-02\n",
            "   1.73000000e+02 -7.65793251e-02  4.50000000e+01  2.18181818e+00\n",
            "   5.79755523e+09  7.52099920e-04  9.45036158e-05  1.25337426e-03]\n",
            " [ 6.59228985e-03 -5.45597008e-03 -1.14100667e-02 -1.63144330e-03\n",
            "  -1.66155015e+09  9.83595630e+07 -1.26958840e+07 -3.20906796e-02\n",
            "   1.67000000e+02  9.14795669e-03 -1.06000000e+02  6.09756098e-01\n",
            "  -7.11135825e+08  7.22845586e-03 -4.72786240e-02  1.32934758e-02]\n",
            " [-3.24160988e-03 -1.21854536e-02  2.54919731e-02  2.83107047e-03\n",
            "  -6.78683546e+08 -1.04091279e+09  1.09333710e+07 -5.58221024e-03\n",
            "   1.17000000e+02  3.18093815e-01  1.70000000e+01 -7.31707317e-01\n",
            "  -2.89877596e+09  1.48692652e-02 -1.12994858e-01  2.07643652e-02]] 0.07617594857199705\n"
          ]
        }
      ]
    },
    {
      "cell_type": "markdown",
      "metadata": {
        "id": "kPrLhkG4K8KD"
      },
      "source": [
        "## Modeling\n",
        "\n",
        "Sequential LSTM  Keras Model"
      ]
    },
    {
      "cell_type": "code",
      "metadata": {
        "id": "MgJ2dCu6K8KD",
        "colab": {
          "base_uri": "https://localhost:8080/"
        },
        "outputId": "04735828-566d-48df-8dbd-1bb9e5daf125"
      },
      "source": [
        "print('Input shape is:',X2_train.shape[1],X2_train.shape[2])\n",
        "model = keras.Sequential()\n",
        "model.add(keras.layers.LSTM(\n",
        "    units = 128,\n",
        "    input_shape=(X2_train.shape[1],X2_train.shape[2])\n",
        "))\n",
        "model.add(keras.layers.Dense(units=1))\n",
        "model.compile(\n",
        "    loss = 'mean_squared_error',\n",
        "    optimizer = keras.optimizers.Adam(0.001)\n",
        ")"
      ],
      "execution_count": null,
      "outputs": [
        {
          "output_type": "stream",
          "name": "stdout",
          "text": [
            "Input shape is: 5 16\n"
          ]
        }
      ]
    },
    {
      "cell_type": "markdown",
      "metadata": {
        "id": "rs4LV-tRK8KD"
      },
      "source": [
        "### Training: "
      ]
    },
    {
      "cell_type": "code",
      "metadata": {
        "id": "5M54Lhr6K8KD"
      },
      "source": [
        "history2 = model.fit(\n",
        "    X2_train,y2_train,\n",
        "    epochs=300,\n",
        "    batch_size=16,\n",
        "    validation_split = 0.1,\n",
        "    verbose=1,\n",
        "    shuffle=False\n",
        ")"
      ],
      "execution_count": null,
      "outputs": []
    },
    {
      "cell_type": "code",
      "metadata": {
        "id": "-LuuXlVzK8KD",
        "colab": {
          "base_uri": "https://localhost:8080/",
          "height": 282
        },
        "outputId": "65386742-49c9-42e2-890d-7e2094283583"
      },
      "source": [
        "plt.plot(history2.history['loss'], label='Training loss')\n",
        "plt.plot(history2.history['val_loss'], label='Validation loss')\n",
        "plt.legend()"
      ],
      "execution_count": null,
      "outputs": [
        {
          "output_type": "execute_result",
          "data": {
            "text/plain": [
              "<matplotlib.legend.Legend at 0x7f16a71bd4d0>"
            ]
          },
          "metadata": {},
          "execution_count": 30
        },
        {
          "output_type": "display_data",
          "data": {
            "image/png": "[encoded data removed]",
            "text/plain": [
              "<Figure size 432x288 with 1 Axes>"
            ]
          },
          "metadata": {
            "needs_background": "light"
          }
        }
      ]
    },
    {
      "cell_type": "markdown",
      "metadata": {
        "id": "-2N67YHkK8KE"
      },
      "source": [
        "## Making Predictions: "
      ]
    },
    {
      "cell_type": "code",
      "metadata": {
        "id": "hw55K_peK8KE"
      },
      "source": [
        "y2_pred=model.predict(X2_test)"
      ],
      "execution_count": null,
      "outputs": []
    },
    {
      "cell_type": "code",
      "metadata": {
        "id": "cNrSOOuvK8KE",
        "colab": {
          "base_uri": "https://localhost:8080/",
          "height": 278
        },
        "outputId": "72823879-9e37-4abc-839d-7dfb23b52e4d"
      },
      "source": [
        "plt.plot(np.arange(0, len(y_train)), y_train, 'g', label=\"history\")\n",
        "plt.plot(np.arange(len(y_train), len(y_train) + len(y_test)), y_test, marker='.', label=\"true\")\n",
        "plt.plot(np.arange(len(y_train), len(y_train) + len(y_test)), y_pred, 'r', label=\"prediction\")\n",
        "plt.ylabel('ETH Close')\n",
        "plt.xlabel('Time Step')\n",
        "plt.legend()\n",
        "plt.show();"
      ],
      "execution_count": null,
      "outputs": [
        {
          "output_type": "display_data",
          "data": {
            "image/png": "[encoded data removed]",
            "text/plain": [
              "<Figure size 432x288 with 1 Axes>"
            ]
          },
          "metadata": {
            "needs_background": "light"
          }
        }
      ]
    },
    {
      "cell_type": "code",
      "metadata": {
        "id": "voeG69MwK8KE",
        "colab": {
          "base_uri": "https://localhost:8080/",
          "height": 278
        },
        "outputId": "049b748d-3540-4d85-90f0-d43c2b11c9a3"
      },
      "source": [
        "plt.plot(y_test, marker='.', label=\"true\")\n",
        "plt.plot(y_pred, 'r', label=\"prediction\")\n",
        "plt.ylabel('ETH Close')\n",
        "plt.xlabel('Time Step')\n",
        "plt.legend()\n",
        "plt.show();"
      ],
      "execution_count": null,
      "outputs": [
        {
          "output_type": "display_data",
          "data": {
            "image/png": "[encoded data removed]",
            "text/plain": [
              "<Figure size 432x288 with 1 Axes>"
            ]
          },
          "metadata": {
            "needs_background": "light"
          }
        }
      ]
    },
    {
      "cell_type": "code",
      "metadata": {
        "id": "zrJS0zQJMgbD",
        "colab": {
          "base_uri": "https://localhost:8080/",
          "height": 278
        },
        "outputId": "e2731fca-d7c1-402c-d5a9-58b9a06bbda9"
      },
      "source": [
        "plt.plot(y2_test, marker='.', label=\"true\")\n",
        "plt.plot(y2_pred, 'r', label=\"prediction\")\n",
        "plt.ylabel('ETH Close')\n",
        "plt.xlabel('Time Step')\n",
        "plt.legend()\n",
        "plt.show();"
      ],
      "execution_count": null,
      "outputs": [
        {
          "output_type": "display_data",
          "data": {
            "image/png": "[encoded data removed]",
            "text/plain": [
              "<Figure size 432x288 with 1 Axes>"
            ]
          },
          "metadata": {
            "needs_background": "light"
          }
        }
      ]
    },
    {
      "cell_type": "markdown",
      "metadata": {
        "id": "wMVEXhjANY4X"
      },
      "source": [
        "## Computing prediction accuracy"
      ]
    },
    {
      "cell_type": "code",
      "metadata": {
        "id": "aSt3I_bQNL8n",
        "colab": {
          "base_uri": "https://localhost:8080/"
        },
        "outputId": "5c046d61-80cd-4997-c6c2-20322f39be9d"
      },
      "source": [
        "import sklearn.metrics as sm\n",
        "print(\"Mean absolute error =\", \n",
        "      round(sm.mean_absolute_error(y2_test, y2_pred), 5)) \n",
        "print(\"Mean squared error =\", \n",
        "      round(sm.mean_squared_error(y2_test, y2_pred), 5)) \n",
        "print(\"Root mean squared error:\",\n",
        "      round(sm.mean_squared_error(y_test,y_pred)**0.5,5))\n",
        "print(\"Median absolute error =\", \n",
        "      round(sm.median_absolute_error(y2_test, y2_pred), 5)) \n",
        "print(\"Explain variance score =\", \n",
        "      round(sm.explained_variance_score(y2_test, y2_pred), 5)) \n",
        "print(\"R2 score =\", \n",
        "      round(sm.r2_score(y2_test, y2_pred), 5))"
      ],
      "execution_count": null,
      "outputs": [
        {
          "output_type": "stream",
          "name": "stdout",
          "text": [
            "Mean absolute error = 0.06974\n",
            "Mean squared error = 0.00919\n",
            "Root mean squared error: 0.09957\n",
            "Median absolute error = 0.05191\n",
            "Explain variance score = -0.12862\n",
            "R2 score = -0.2139\n"
          ]
        }
      ]
    },
    {
      "cell_type": "markdown",
      "metadata": {
        "id": "rBLbe-IAQJUE"
      },
      "source": [
        "# Tuning and comparing models\n",
        "\n",
        "With means for NAN in financial values: "
      ]
    },
    {
      "cell_type": "markdown",
      "metadata": {
        "id": "2uI1L7jcQJUF"
      },
      "source": [
        "## Preparing DF and Train and Test:"
      ]
    },
    {
      "cell_type": "code",
      "metadata": {
        "id": "2Bh-3nWsQJUF"
      },
      "source": [
        "df = pd.read_csv(io.BytesIO(uploaded['eth_mix_log_diff_return1611.csv']))\n",
        "df['date'] = pd.to_datetime(df['date'])\n",
        "df.set_index('date', inplace=True)"
      ],
      "execution_count": null,
      "outputs": []
    },
    {
      "cell_type": "code",
      "metadata": {
        "id": "SmJATa_CQJUG"
      },
      "source": [
        "columns = ['close_s&p500','close_vix','close_nasdaq']\n",
        "df1 = df.copy()\n",
        "df1 = df1.fillna(df.mean())"
      ],
      "execution_count": null,
      "outputs": []
    },
    {
      "cell_type": "code",
      "metadata": {
        "id": "8x-TmmkBQJUG",
        "colab": {
          "base_uri": "https://localhost:8080/",
          "height": 314
        },
        "outputId": "2c609ad5-373a-4cfe-e816-bebf61d900ad"
      },
      "source": [
        "df1.describe()"
      ],
      "execution_count": null,
      "outputs": [
        {
          "output_type": "execute_result",
          "data": {
            "text/html": [
              "<div>\n",
              "<style scoped>\n",
              "    .dataframe tbody tr th:only-of-type {\n",
              "        vertical-align: middle;\n",
              "    }\n",
              "\n",
              "    .dataframe tbody tr th {\n",
              "        vertical-align: top;\n",
              "    }\n",
              "\n",
              "    .dataframe thead th {\n",
              "        text-align: right;\n",
              "    }\n",
              "</style>\n",
              "<table border=\"1\" class=\"dataframe\">\n",
              "  <thead>\n",
              "    <tr style=\"text-align: right;\">\n",
              "      <th></th>\n",
              "      <th>eth_close</th>\n",
              "      <th>btc_close</th>\n",
              "      <th>dog_close</th>\n",
              "      <th>usdt_close</th>\n",
              "      <th>eth_volume</th>\n",
              "      <th>btc_volume</th>\n",
              "      <th>dog_volume</th>\n",
              "      <th>tw_eth_mean_vader</th>\n",
              "      <th>tw_eth_count</th>\n",
              "      <th>rd_eth_mean_vader</th>\n",
              "      <th>rd_eth_count</th>\n",
              "      <th>gt_eth_adjusted</th>\n",
              "      <th>usdt_volume</th>\n",
              "      <th>close_s&amp;p500</th>\n",
              "      <th>close_vix</th>\n",
              "      <th>close_nasdaq</th>\n",
              "    </tr>\n",
              "  </thead>\n",
              "  <tbody>\n",
              "    <tr>\n",
              "      <th>count</th>\n",
              "      <td>516.000000</td>\n",
              "      <td>516.000000</td>\n",
              "      <td>516.000000</td>\n",
              "      <td>516.000000</td>\n",
              "      <td>5.160000e+02</td>\n",
              "      <td>5.160000e+02</td>\n",
              "      <td>5.160000e+02</td>\n",
              "      <td>516.000000</td>\n",
              "      <td>516.000000</td>\n",
              "      <td>516.000000</td>\n",
              "      <td>516.000000</td>\n",
              "      <td>516.000000</td>\n",
              "      <td>5.160000e+02</td>\n",
              "      <td>516.000000</td>\n",
              "      <td>516.000000</td>\n",
              "      <td>516.000000</td>\n",
              "    </tr>\n",
              "    <tr>\n",
              "      <th>mean</th>\n",
              "      <td>0.004767</td>\n",
              "      <td>0.002573</td>\n",
              "      <td>0.009068</td>\n",
              "      <td>-0.000003</td>\n",
              "      <td>2.366344e+07</td>\n",
              "      <td>1.070284e+07</td>\n",
              "      <td>4.086424e+06</td>\n",
              "      <td>-0.000009</td>\n",
              "      <td>16.988372</td>\n",
              "      <td>-0.000136</td>\n",
              "      <td>1.352713</td>\n",
              "      <td>0.066244</td>\n",
              "      <td>4.117007e+07</td>\n",
              "      <td>0.000752</td>\n",
              "      <td>0.000095</td>\n",
              "      <td>0.001253</td>\n",
              "    </tr>\n",
              "    <tr>\n",
              "      <th>std</th>\n",
              "      <td>0.058856</td>\n",
              "      <td>0.043944</td>\n",
              "      <td>0.111940</td>\n",
              "      <td>0.004718</td>\n",
              "      <td>6.045298e+09</td>\n",
              "      <td>2.165411e+10</td>\n",
              "      <td>4.292960e+09</td>\n",
              "      <td>0.023721</td>\n",
              "      <td>1270.561380</td>\n",
              "      <td>0.071723</td>\n",
              "      <td>215.038890</td>\n",
              "      <td>7.906189</td>\n",
              "      <td>1.892601e+10</td>\n",
              "      <td>0.015803</td>\n",
              "      <td>0.074710</td>\n",
              "      <td>0.016877</td>\n",
              "    </tr>\n",
              "    <tr>\n",
              "      <th>min</th>\n",
              "      <td>-0.550732</td>\n",
              "      <td>-0.464730</td>\n",
              "      <td>-0.515118</td>\n",
              "      <td>-0.052570</td>\n",
              "      <td>-3.022394e+10</td>\n",
              "      <td>-3.050570e+11</td>\n",
              "      <td>-3.799728e+10</td>\n",
              "      <td>-0.095105</td>\n",
              "      <td>-6468.000000</td>\n",
              "      <td>-0.270707</td>\n",
              "      <td>-1253.000000</td>\n",
              "      <td>-36.842105</td>\n",
              "      <td>-9.566314e+10</td>\n",
              "      <td>-0.127652</td>\n",
              "      <td>-0.266228</td>\n",
              "      <td>-0.131492</td>\n",
              "    </tr>\n",
              "    <tr>\n",
              "      <th>25%</th>\n",
              "      <td>-0.020265</td>\n",
              "      <td>-0.013953</td>\n",
              "      <td>-0.022799</td>\n",
              "      <td>-0.000750</td>\n",
              "      <td>-2.316805e+09</td>\n",
              "      <td>-4.385983e+09</td>\n",
              "      <td>-3.025735e+07</td>\n",
              "      <td>-0.013044</td>\n",
              "      <td>-377.000000</td>\n",
              "      <td>-0.040509</td>\n",
              "      <td>-59.000000</td>\n",
              "      <td>-1.275974</td>\n",
              "      <td>-6.670556e+09</td>\n",
              "      <td>-0.001590</td>\n",
              "      <td>-0.029311</td>\n",
              "      <td>-0.000966</td>\n",
              "    </tr>\n",
              "    <tr>\n",
              "      <th>50%</th>\n",
              "      <td>0.005985</td>\n",
              "      <td>0.002496</td>\n",
              "      <td>0.000000</td>\n",
              "      <td>-0.000008</td>\n",
              "      <td>-2.454842e+06</td>\n",
              "      <td>-1.558302e+08</td>\n",
              "      <td>-2.667508e+06</td>\n",
              "      <td>0.001016</td>\n",
              "      <td>-15.000000</td>\n",
              "      <td>-0.001687</td>\n",
              "      <td>-6.000000</td>\n",
              "      <td>-0.087016</td>\n",
              "      <td>1.899312e+06</td>\n",
              "      <td>0.000752</td>\n",
              "      <td>0.000095</td>\n",
              "      <td>0.001253</td>\n",
              "    </tr>\n",
              "    <tr>\n",
              "      <th>75%</th>\n",
              "      <td>0.033272</td>\n",
              "      <td>0.020317</td>\n",
              "      <td>0.020884</td>\n",
              "      <td>0.000862</td>\n",
              "      <td>2.019769e+09</td>\n",
              "      <td>4.775606e+09</td>\n",
              "      <td>1.510489e+07</td>\n",
              "      <td>0.013089</td>\n",
              "      <td>348.250000</td>\n",
              "      <td>0.040609</td>\n",
              "      <td>50.200000</td>\n",
              "      <td>1.167202</td>\n",
              "      <td>6.962274e+09</td>\n",
              "      <td>0.005211</td>\n",
              "      <td>0.012472</td>\n",
              "      <td>0.007166</td>\n",
              "    </tr>\n",
              "    <tr>\n",
              "      <th>max</th>\n",
              "      <td>0.230695</td>\n",
              "      <td>0.171821</td>\n",
              "      <td>1.323469</td>\n",
              "      <td>0.053393</td>\n",
              "      <td>4.406639e+10</td>\n",
              "      <td>2.964614e+11</td>\n",
              "      <td>5.149406e+10</td>\n",
              "      <td>0.095100</td>\n",
              "      <td>11244.000000</td>\n",
              "      <td>0.318094</td>\n",
              "      <td>1701.000000</td>\n",
              "      <td>73.385965</td>\n",
              "      <td>1.395697e+11</td>\n",
              "      <td>0.089683</td>\n",
              "      <td>0.480214</td>\n",
              "      <td>0.089347</td>\n",
              "    </tr>\n",
              "  </tbody>\n",
              "</table>\n",
              "</div>"
            ],
            "text/plain": [
              "        eth_close   btc_close  ...   close_vix  close_nasdaq\n",
              "count  516.000000  516.000000  ...  516.000000    516.000000\n",
              "mean     0.004767    0.002573  ...    0.000095      0.001253\n",
              "std      0.058856    0.043944  ...    0.074710      0.016877\n",
              "min     -0.550732   -0.464730  ...   -0.266228     -0.131492\n",
              "25%     -0.020265   -0.013953  ...   -0.029311     -0.000966\n",
              "50%      0.005985    0.002496  ...    0.000095      0.001253\n",
              "75%      0.033272    0.020317  ...    0.012472      0.007166\n",
              "max      0.230695    0.171821  ...    0.480214      0.089347\n",
              "\n",
              "[8 rows x 16 columns]"
            ]
          },
          "metadata": {},
          "execution_count": 38
        }
      ]
    },
    {
      "cell_type": "code",
      "metadata": {
        "id": "68i0M6WuQJUG",
        "colab": {
          "base_uri": "https://localhost:8080/"
        },
        "outputId": "cc3353cd-c728-4940-b03c-35ddb97ad40c"
      },
      "source": [
        "# defining tran and test: \n",
        "train_size = int(len(df1)*0.9)\n",
        "test_size = len(df1) - train_size \n",
        "\n",
        "train,test=df1.iloc[0:train_size],df1.iloc[train_size:len(df1)]\n",
        "print(len(train),len(test))"
      ],
      "execution_count": null,
      "outputs": [
        {
          "output_type": "stream",
          "name": "stdout",
          "text": [
            "464 52\n"
          ]
        }
      ]
    },
    {
      "cell_type": "markdown",
      "metadata": {
        "id": "yvgOK78ZQJUG"
      },
      "source": [
        "## Preparing for Time Series Forecasting\n",
        "\n",
        "This step changes data so that the value at the current time step will be predicted by using previous n-time steps value \n",
        "\n",
        "Source: https://gist.github.com/curiousily/02f6c7448069dce96cd3f74be4795e29"
      ]
    },
    {
      "cell_type": "code",
      "metadata": {
        "id": "mVzNLYrbQJUG"
      },
      "source": [
        "def create_dataset(X,y,time_steps=1):\n",
        "  Xs,ys = [],[]\n",
        "  for i in range(len(X)-time_steps):\n",
        "    v = X.iloc[i:(i+time_steps)].values \n",
        "    Xs.append(v)\n",
        "    ys.append(y.iloc[i+time_steps])\n",
        "  return np.array(Xs),np.array(ys)"
      ],
      "execution_count": null,
      "outputs": []
    },
    {
      "cell_type": "code",
      "metadata": {
        "id": "PXGM_PfNQJUH"
      },
      "source": [
        "time_steps = 20"
      ],
      "execution_count": null,
      "outputs": []
    },
    {
      "cell_type": "code",
      "metadata": {
        "id": "VaKOwXq7QJUH"
      },
      "source": [
        "X_train,y_train=create_dataset(train,train.btc_close,time_steps)\n",
        "X_test,y_test=create_dataset(test,test.btc_close,time_steps)"
      ],
      "execution_count": null,
      "outputs": []
    },
    {
      "cell_type": "code",
      "metadata": {
        "id": "KXHd_kmkQJUH",
        "colab": {
          "base_uri": "https://localhost:8080/"
        },
        "outputId": "afe78543-7f1d-4d22-8675-a19103ac9852"
      },
      "source": [
        "print(X_train.shape,y_train.shape)"
      ],
      "execution_count": null,
      "outputs": [
        {
          "output_type": "stream",
          "name": "stdout",
          "text": [
            "(444, 20, 16) (444,)\n"
          ]
        }
      ]
    },
    {
      "cell_type": "code",
      "metadata": {
        "id": "hjDsiiPgQJUH",
        "colab": {
          "base_uri": "https://localhost:8080/"
        },
        "outputId": "7075a3a9-264a-4e58-feac-4365a1607829"
      },
      "source": [
        "print(X_train[0],y_train[0])"
      ],
      "execution_count": null,
      "outputs": [
        {
          "output_type": "stream",
          "name": "stdout",
          "text": [
            "[[-2.48350161e-02 -1.68050487e-02 -1.90324322e-02 -8.03156729e-04\n",
            "  -8.76172944e+08 -2.94630313e+09 -7.44861900e+06  1.51977965e-02\n",
            "   1.30000000e+02  6.51772561e-02  8.40000000e+01 -5.45454545e-01\n",
            "  -3.12787275e+09 -1.78644764e-02  1.95787615e-01 -1.60426530e-02]\n",
            " [ 1.93158752e-02  4.51847214e-03  1.16280380e-02  5.67471132e-04\n",
            "  -1.58919212e+08 -3.50983322e+09  2.21153500e+06 -1.31007739e-02\n",
            "  -5.37000000e+02 -4.59262588e-02 -9.10000000e+01 -6.36363636e-01\n",
            "  -5.73378539e+09  7.52099920e-04  9.45036158e-05  1.25337426e-03]\n",
            " [ 2.65591815e-02 -5.17791028e-03  1.88144609e-02 -6.71409185e-04\n",
            "   2.48472821e+09  4.91308045e+09  1.28216850e+07  1.39418143e-02\n",
            "   1.73000000e+02 -7.65793251e-02  4.50000000e+01  2.18181818e+00\n",
            "   5.79755523e+09  7.52099920e-04  9.45036158e-05  1.25337426e-03]\n",
            " [ 6.59228985e-03 -5.45597008e-03 -1.14100667e-02 -1.63144330e-03\n",
            "  -1.66155015e+09  9.83595630e+07 -1.26958840e+07 -3.20906796e-02\n",
            "   1.67000000e+02  9.14795669e-03 -1.06000000e+02  6.09756098e-01\n",
            "  -7.11135825e+08  7.22845586e-03 -4.72786240e-02  1.32934758e-02]\n",
            " [-3.24160988e-03 -1.21854536e-02  2.54919731e-02  2.83107047e-03\n",
            "  -6.78683546e+08 -1.04091279e+09  1.09333710e+07 -5.58221024e-03\n",
            "   1.17000000e+02  3.18093815e-01  1.70000000e+01 -7.31707317e-01\n",
            "  -2.89877596e+09  1.48692652e-02 -1.12994858e-01  2.07643652e-02]\n",
            " [ 7.61759486e-02  4.60283479e-02  3.10742800e-02  1.09050122e-03\n",
            "   3.15124274e+09  5.32887716e+09  1.59516170e+07  3.35448814e-02\n",
            "   3.08000000e+02 -1.67784323e-01  2.87000000e+02  1.34146341e+00\n",
            "   9.55404437e+09  1.11878229e-02 -5.77082553e-02  4.29053860e-03]\n",
            " [ 3.89364507e-02  1.20330845e-02  2.71267827e-02 -5.62186302e-03\n",
            "   1.56015525e+09  2.40676284e+09  2.96999500e+06 -1.87864433e-02\n",
            "  -2.02000000e+02 -3.12249181e-02 -1.71000000e+02  1.09756098e+00\n",
            "   4.44162610e+07  3.32012873e-03 -1.26205594e-02  6.65284863e-03]\n",
            " [ 4.77581457e-02  6.77483534e-03  4.27951690e-02  5.36349737e-04\n",
            "   2.47853881e+08 -3.10610556e+09  2.15622640e+07 -3.47105094e-03\n",
            "   4.12000000e+02 -8.51815754e-02 -5.30000000e+01  4.87804878e-01\n",
            "  -3.58222299e+09 -5.41547051e-03  3.35226920e-02 -5.40948726e-03]\n",
            " [ 1.88599232e-03  7.03685952e-03  1.31769278e-01  1.78542419e-03\n",
            "   6.77595610e+07  6.49325603e+08  7.35299360e+07 -6.04520116e-03\n",
            "  -4.48000000e+02 -3.46550056e-02 -3.40000000e+01 -1.21951220e+00\n",
            "   1.28477841e+09  7.52099920e-04  9.45036158e-05  1.25337426e-03]\n",
            " [ 2.40514200e-02  2.51797202e-02  2.28456188e-02  1.93802481e-03\n",
            "  -1.70984688e+09  6.35840901e+08  1.50577130e+07 -1.85036633e-02\n",
            "  -3.00000000e+01  1.49650997e-02  4.00000000e+01  4.14634146e-01\n",
            "   7.25995086e+08  7.52099920e-04  9.45036158e-05  1.25337426e-03]\n",
            " [-2.23669964e-02 -2.60425059e-02 -7.91664415e-02 -8.32120912e-04\n",
            "   1.17865227e+09  3.57866341e+09 -2.32795240e+07  2.91188206e-02\n",
            "   3.80000000e+01  9.93180989e-02 -1.60000000e+01 -4.37500000e-01\n",
            "   3.80645976e+09  7.29965216e-03 -2.81893461e-02  1.12675952e-02]\n",
            " [ 5.36880835e-02  3.50524467e-02  1.82517096e-02 -2.21804006e-03\n",
            "   7.54687452e+08 -1.73848869e+09 -2.58348680e+07 -1.67832348e-02\n",
            "   2.95000000e+02  2.72455522e-02 -4.00000000e+01  3.28125000e-01\n",
            "  -2.78262324e+09  1.68707491e-03  9.26545345e-03  1.09519928e-03]\n",
            " [ 1.18060131e-01  1.14754050e-02  1.69550850e-02  4.13397611e-03\n",
            "   7.58035342e+09  5.79624444e+09  1.16598250e+07 -7.66930318e-03\n",
            "   3.31000000e+02 -1.61182507e-02  7.10000000e+01  4.04687500e+00\n",
            "   8.82802112e+09  6.44186755e-03 -9.96674852e-02  8.98740659e-03]\n",
            " [ 1.00960104e-02 -1.08737627e-02 -2.18998783e-02 -3.97774191e-03\n",
            "   1.25626812e+09  5.91176754e+09 -1.28630180e+07  1.20865692e-02\n",
            "  -4.54000000e+02  4.51297214e-02 -1.00000000e+01 -1.09375000e+00\n",
            "   8.75889742e+09 -1.63177344e-03  2.94033373e-02 -1.43947803e-03]\n",
            " [ 5.83825649e-02  9.52301515e-03  3.37913892e-02  1.53600408e-03\n",
            "  -2.24306404e+09 -6.01780721e+09 -2.76947090e+07  1.03054159e-02\n",
            "   3.40000000e+01  1.70802148e-02 -4.10000000e+01 -1.20312500e+00\n",
            "  -8.88991252e+09  1.84184473e-03 -3.37797119e-02  1.97601395e-03]\n",
            " [-7.10347232e-02 -4.18535504e-02 -6.94493883e-02 -9.86373916e-04\n",
            "   1.24199531e+08  5.26790669e+08  3.87679600e+06 -2.37620753e-02\n",
            "  -4.45000000e+02 -5.50686208e-02 -2.80000000e+01 -1.20312500e+00\n",
            "   2.55175132e+09  7.52099920e-04  9.45036158e-05  1.25337426e-03]\n",
            " [-1.84284605e-02  4.54087851e-03 -5.12932944e-02  1.44115292e-04\n",
            "   1.46991365e+09 -4.90274526e+08  5.10590400e+06  6.51217709e-03\n",
            "  -1.60000000e+01 -1.46777818e-01  6.70000000e+01 -1.43750000e+00\n",
            "   2.91019987e+09  7.52099920e-04  9.45036158e-05  1.25337426e-03]\n",
            " [ 2.45850666e-02 -2.48977235e-02 -2.26039518e-02 -7.98900403e-04\n",
            "   8.71713446e+08  2.62351811e+09 -2.09931000e+05 -2.93469319e-03\n",
            "   2.62000000e+02 -4.01565131e-02 -8.70000000e+01  8.88888889e-01\n",
            "   2.87808930e+09  7.52099920e-04  9.45036158e-05  1.25337426e-03]\n",
            " [ 5.68488573e-02  4.55756925e-02  4.57655074e-02  2.28587763e-03\n",
            "   4.87397098e+08  1.27272554e+09 -5.43315800e+06 -3.51997401e-03\n",
            "   2.88000000e+02  6.11379518e-02  8.30000000e+01  1.11111111e+00\n",
            "  -2.42185503e+09 -2.92425158e-03  8.07172440e-02  1.60352695e-04]\n",
            " [-8.19370888e-02 -5.14499840e-02 -7.87520064e-02  5.64412180e-04\n",
            "  -3.83206277e+09 -2.79004243e+08 -7.29979200e+06  7.68067926e-03\n",
            "   7.40000000e+01  4.65765581e-02  1.90000000e+01 -5.55555556e-01\n",
            "  -5.69672193e+09  4.69478871e-03 -3.08138039e-02  8.63839642e-03]] -0.002589265687777953\n"
          ]
        }
      ]
    },
    {
      "cell_type": "markdown",
      "metadata": {
        "id": "vt6XE3OKQJUH"
      },
      "source": [
        "## Modeling\n",
        "\n",
        "Sequential LSTM  Keras Model"
      ]
    },
    {
      "cell_type": "code",
      "metadata": {
        "id": "MZ-gu5euQJUH",
        "colab": {
          "base_uri": "https://localhost:8080/"
        },
        "outputId": "d1648625-bf88-48a5-e25e-f6add6030cef"
      },
      "source": [
        "print('Input shape is:',X_train.shape[1],X_train.shape[2])\n",
        "model = keras.Sequential()\n",
        "model.add(keras.layers.LSTM(\n",
        "    units = 128,\n",
        "    input_shape=(X_train.shape[1],X_train.shape[2])\n",
        "))\n",
        "model.add(keras.layers.Dense(units=1))\n",
        "model.compile(\n",
        "    loss = 'mean_squared_error',\n",
        "    optimizer = keras.optimizers.Adam(0.001)\n",
        ")"
      ],
      "execution_count": null,
      "outputs": [
        {
          "output_type": "stream",
          "name": "stdout",
          "text": [
            "Input shape is: 20 16\n"
          ]
        }
      ]
    },
    {
      "cell_type": "markdown",
      "metadata": {
        "id": "L0TKqGEIQJUI"
      },
      "source": [
        "#### Training: "
      ]
    },
    {
      "cell_type": "code",
      "metadata": {
        "id": "3D5IzGBaQJUI"
      },
      "source": [
        "history = model.fit(\n",
        "    X_train,y_train,\n",
        "    epochs=300,\n",
        "    batch_size=16,\n",
        "    validation_split = 0.1,\n",
        "    verbose=1,\n",
        "    shuffle=False\n",
        ")"
      ],
      "execution_count": null,
      "outputs": []
    },
    {
      "cell_type": "code",
      "metadata": {
        "id": "X1m87bMnQJUJ",
        "colab": {
          "base_uri": "https://localhost:8080/",
          "height": 282
        },
        "outputId": "6405e003-58e6-4456-88e4-aec23415deb0"
      },
      "source": [
        "plt.plot(history.history['loss'], label='Training loss')\n",
        "plt.plot(history.history['val_loss'], label='Validation loss')\n",
        "plt.legend()"
      ],
      "execution_count": null,
      "outputs": [
        {
          "output_type": "execute_result",
          "data": {
            "text/plain": [
              "<matplotlib.legend.Legend at 0x7f16a6a51e10>"
            ]
          },
          "metadata": {},
          "execution_count": 47
        },
        {
          "output_type": "display_data",
          "data": {
            "image/png": "[encoded data removed]",
            "text/plain": [
              "<Figure size 432x288 with 1 Axes>"
            ]
          },
          "metadata": {
            "needs_background": "light"
          }
        }
      ]
    },
    {
      "cell_type": "markdown",
      "metadata": {
        "id": "0N1sZ_sHQJUJ"
      },
      "source": [
        "#### Making Predictions: "
      ]
    },
    {
      "cell_type": "code",
      "metadata": {
        "id": "YOtwKCfAQJUK"
      },
      "source": [
        "y_pred=model.predict(X_test)"
      ],
      "execution_count": null,
      "outputs": []
    },
    {
      "cell_type": "code",
      "metadata": {
        "id": "jkCzihKjQJUK",
        "colab": {
          "base_uri": "https://localhost:8080/",
          "height": 282
        },
        "outputId": "e86973dd-1293-4388-a461-214ea062d827"
      },
      "source": [
        "plt.plot(np.arange(0, len(y_train)), y_train, 'g', label=\"history\")\n",
        "plt.plot(np.arange(len(y_train), len(y_train) + len(y_test)), y_test, marker='.', label=\"true\")\n",
        "plt.plot(np.arange(len(y_train), len(y_train) + len(y_test)), y_pred, 'r', label=\"prediction\")\n",
        "plt.ylabel('ETH Close')\n",
        "plt.xlabel('Time Step')\n",
        "plt.legend()\n",
        "plt.show();"
      ],
      "execution_count": null,
      "outputs": [
        {
          "output_type": "display_data",
          "data": {
            "image/png": "[encoded data removed]",
            "text/plain": [
              "<Figure size 432x288 with 1 Axes>"
            ]
          },
          "metadata": {
            "needs_background": "light"
          }
        }
      ]
    },
    {
      "cell_type": "code",
      "metadata": {
        "id": "rql3T6dXQJUK",
        "colab": {
          "base_uri": "https://localhost:8080/",
          "height": 278
        },
        "outputId": "46bfd738-e0c2-46ed-96e3-eca012730c30"
      },
      "source": [
        "plt.plot(y_test, marker='.', label=\"true\")\n",
        "plt.plot(y_pred, 'r', label=\"prediction\")\n",
        "plt.ylabel('ETH Close')\n",
        "plt.xlabel('Time Step')\n",
        "plt.legend()\n",
        "plt.show();"
      ],
      "execution_count": null,
      "outputs": [
        {
          "output_type": "display_data",
          "data": {
            "image/png": "[encoded data removed]",
            "text/plain": [
              "<Figure size 432x288 with 1 Axes>"
            ]
          },
          "metadata": {
            "needs_background": "light"
          }
        }
      ]
    },
    {
      "cell_type": "code",
      "metadata": {
        "id": "LQNOZwLbQJUK",
        "colab": {
          "base_uri": "https://localhost:8080/"
        },
        "outputId": "4790fd6d-928e-410b-a7c2-a3d3c7030888"
      },
      "source": [
        "import sklearn.metrics as sm\n",
        "print(\"Mean absolute error =\", \n",
        "      round(sm.mean_absolute_error(y_test, y_pred), 5)) \n",
        "print(\"Mean squared error =\", \n",
        "      round(sm.mean_squared_error(y_test, y_pred), 5)) \n",
        "print(\"Root mean squared error:\",\n",
        "      round(sm.mean_squared_error(y_test,y_pred)**0.5,5))\n",
        "print(\"Median absolute error =\", \n",
        "      round(sm.median_absolute_error(y_test, y_pred), 5)) \n",
        "print(\"Explain variance score =\", \n",
        "      round(sm.explained_variance_score(y_test, y_pred), 5)) \n",
        "print(\"R2 score =\", \n",
        "      round(sm.r2_score(y_test, y_pred), 5))"
      ],
      "execution_count": null,
      "outputs": [
        {
          "output_type": "stream",
          "name": "stdout",
          "text": [
            "Mean absolute error = 0.05628\n",
            "Mean squared error = 0.00499\n",
            "Root mean squared error: 0.07064\n",
            "Median absolute error = 0.0437\n",
            "Explain variance score = -0.90962\n",
            "R2 score = -0.98543\n"
          ]
        }
      ]
    },
    {
      "cell_type": "markdown",
      "metadata": {
        "id": "hsRUkd44SO8i"
      },
      "source": [
        "## Modeling 2\n",
        "\n",
        "Sequential LSTM  Keras Model: different time_steps"
      ]
    },
    {
      "cell_type": "code",
      "metadata": {
        "id": "tby6yB5ESezV"
      },
      "source": [
        "time_steps = 32\n",
        "X_train,y_train=create_dataset(train,train.btc_close,time_steps)\n",
        "X_test,y_test=create_dataset(test,test.btc_close,time_steps)"
      ],
      "execution_count": null,
      "outputs": []
    },
    {
      "cell_type": "code",
      "metadata": {
        "id": "_3nkYrskSO8i",
        "colab": {
          "base_uri": "https://localhost:8080/"
        },
        "outputId": "6f3ef8d2-fb00-4ce2-a679-a4e32f504bbe"
      },
      "source": [
        "print('Input shape is:',X_train.shape[1],X_train.shape[2])\n",
        "model = keras.Sequential()\n",
        "model.add(keras.layers.LSTM(\n",
        "    units = 128,\n",
        "    input_shape=(X_train.shape[1],X_train.shape[2])\n",
        "))\n",
        "model.add(keras.layers.Dense(units=1))\n",
        "model.compile(\n",
        "    loss = 'mean_squared_error',\n",
        "    optimizer = keras.optimizers.Adam(0.001)\n",
        ")"
      ],
      "execution_count": null,
      "outputs": [
        {
          "output_type": "stream",
          "name": "stdout",
          "text": [
            "Input shape is: 32 16\n"
          ]
        }
      ]
    },
    {
      "cell_type": "markdown",
      "metadata": {
        "id": "1o3PmlLXSO8i"
      },
      "source": [
        "#### Training: "
      ]
    },
    {
      "cell_type": "code",
      "metadata": {
        "id": "8mCKu7cCSO8i"
      },
      "source": [
        "history = model.fit(\n",
        "    X_train,y_train,\n",
        "    epochs=300,\n",
        "    batch_size=16,\n",
        "    validation_split = 0.1,\n",
        "    verbose=0,\n",
        "    shuffle=False\n",
        ")"
      ],
      "execution_count": null,
      "outputs": []
    },
    {
      "cell_type": "code",
      "metadata": {
        "id": "Mqen0LTFSO8i",
        "colab": {
          "base_uri": "https://localhost:8080/",
          "height": 282
        },
        "outputId": "38f7f3fb-b903-4f3d-f367-d2a193a5ac30"
      },
      "source": [
        "plt.plot(history.history['loss'], label='Training loss')\n",
        "plt.plot(history.history['val_loss'], label='Validation loss')\n",
        "plt.legend()"
      ],
      "execution_count": null,
      "outputs": [
        {
          "output_type": "execute_result",
          "data": {
            "text/plain": [
              "<matplotlib.legend.Legend at 0x7f16abfdd2d0>"
            ]
          },
          "metadata": {},
          "execution_count": 55
        },
        {
          "output_type": "display_data",
          "data": {
            "image/png": "[encoded data removed]",
            "text/plain": [
              "<Figure size 432x288 with 1 Axes>"
            ]
          },
          "metadata": {
            "needs_background": "light"
          }
        }
      ]
    },
    {
      "cell_type": "markdown",
      "metadata": {
        "id": "6QkHZo9jSO8j"
      },
      "source": [
        "#### Making Predictions: "
      ]
    },
    {
      "cell_type": "code",
      "metadata": {
        "id": "fNNOID54SO8j"
      },
      "source": [
        "y_pred=model.predict(X_test)"
      ],
      "execution_count": null,
      "outputs": []
    },
    {
      "cell_type": "code",
      "metadata": {
        "id": "mJ63-23sSO8j",
        "colab": {
          "base_uri": "https://localhost:8080/",
          "height": 282
        },
        "outputId": "247b3d04-a8ce-44ca-e662-3995ea42285d"
      },
      "source": [
        "plt.plot(np.arange(0, len(y_train)), y_train, 'g', label=\"history\")\n",
        "plt.plot(np.arange(len(y_train), len(y_train) + len(y_test)), y_test, marker='.', label=\"true\")\n",
        "plt.plot(np.arange(len(y_train), len(y_train) + len(y_test)), y_pred, 'r', label=\"prediction\")\n",
        "plt.ylabel('BTC Close')\n",
        "plt.xlabel('Time Step')\n",
        "plt.legend()\n",
        "plt.show();"
      ],
      "execution_count": null,
      "outputs": [
        {
          "output_type": "display_data",
          "data": {
            "image/png": "[encoded data removed]",
            "text/plain": [
              "<Figure size 432x288 with 1 Axes>"
            ]
          },
          "metadata": {
            "needs_background": "light"
          }
        }
      ]
    },
    {
      "cell_type": "code",
      "metadata": {
        "id": "RJiIcTMUSO8j",
        "colab": {
          "base_uri": "https://localhost:8080/",
          "height": 278
        },
        "outputId": "2424272b-2cd1-4946-b806-81e0c666b761"
      },
      "source": [
        "plt.plot(y_test, marker='.', label=\"true\")\n",
        "plt.plot(y_pred, 'r', label=\"prediction\")\n",
        "plt.ylabel('BTC Close')\n",
        "plt.xlabel('Time Step')\n",
        "plt.legend()\n",
        "plt.show();"
      ],
      "execution_count": null,
      "outputs": [
        {
          "output_type": "display_data",
          "data": {
            "image/png": "[encoded data removed]",
            "text/plain": [
              "<Figure size 432x288 with 1 Axes>"
            ]
          },
          "metadata": {
            "needs_background": "light"
          }
        }
      ]
    },
    {
      "cell_type": "code",
      "metadata": {
        "id": "QpXHopzySO8j",
        "colab": {
          "base_uri": "https://localhost:8080/"
        },
        "outputId": "06f9ff53-2303-481f-9d54-723a9fc86ed9"
      },
      "source": [
        "import sklearn.metrics as sm\n",
        "print(\"Mean absolute error =\", \n",
        "      round(sm.mean_absolute_error(y_test, y_pred), 5)) \n",
        "print(\"Mean squared error =\", \n",
        "      round(sm.mean_squared_error(y_test, y_pred), 5)) \n",
        "print(\"Root mean squared error:\",\n",
        "      round(sm.mean_squared_error(y_test,y_pred)**0.5,5))\n",
        "print(\"Median absolute error =\", \n",
        "      round(sm.median_absolute_error(y_test, y_pred), 5)) \n",
        "print(\"Explain variance score =\", \n",
        "      round(sm.explained_variance_score(y_test, y_pred), 5)) \n",
        "print(\"R2 score =\", \n",
        "      round(sm.r2_score(y_test, y_pred), 5))"
      ],
      "execution_count": null,
      "outputs": [
        {
          "output_type": "stream",
          "name": "stdout",
          "text": [
            "Mean absolute error = 0.0487\n",
            "Mean squared error = 0.00347\n",
            "Root mean squared error: 0.05886\n",
            "Median absolute error = 0.0482\n",
            "Explain variance score = -0.32692\n",
            "R2 score = -0.328\n"
          ]
        }
      ]
    },
    {
      "cell_type": "markdown",
      "metadata": {
        "id": "FN3Ec_yicAba"
      },
      "source": [
        "## Modeling 3\n",
        "\n",
        "Sequential LSTM  Keras Model: different time_steps"
      ]
    },
    {
      "cell_type": "code",
      "metadata": {
        "id": "sib-sZgLcAba"
      },
      "source": [
        "time_steps = 1\n",
        "X_train,y_train=create_dataset(train,train.eth_close,time_steps)\n",
        "X_test,y_test=create_dataset(test,test.eth_close,time_steps)"
      ],
      "execution_count": null,
      "outputs": []
    },
    {
      "cell_type": "code",
      "metadata": {
        "id": "9qJENlXncAba",
        "colab": {
          "base_uri": "https://localhost:8080/"
        },
        "outputId": "8b85f769-3218-4afc-ee58-524285de3556"
      },
      "source": [
        "print('Input shape is:',X_train.shape[1],X_train.shape[2])\n",
        "model = keras.Sequential()\n",
        "model.add(keras.layers.LSTM(\n",
        "    units = 128,\n",
        "    input_shape=(X_train.shape[1],X_train.shape[2])\n",
        "))\n",
        "model.add(keras.layers.Dense(units=1))\n",
        "model.compile(\n",
        "    loss = 'mean_squared_error',\n",
        "    optimizer = keras.optimizers.Adam(0.001)\n",
        ")"
      ],
      "execution_count": null,
      "outputs": [
        {
          "output_type": "stream",
          "name": "stdout",
          "text": [
            "Input shape is: 1 16\n"
          ]
        }
      ]
    },
    {
      "cell_type": "markdown",
      "metadata": {
        "id": "zaUDLmxvcAbb"
      },
      "source": [
        "#### Training: "
      ]
    },
    {
      "cell_type": "code",
      "metadata": {
        "id": "xIucuA62cAbb"
      },
      "source": [
        "history = model.fit(\n",
        "    X_train,y_train,\n",
        "    epochs=300,\n",
        "    batch_size=16,\n",
        "    validation_split = 0.1,\n",
        "    verbose=0,\n",
        "    shuffle=False\n",
        ")"
      ],
      "execution_count": null,
      "outputs": []
    },
    {
      "cell_type": "code",
      "metadata": {
        "id": "HtTYzoa_cAbb",
        "colab": {
          "base_uri": "https://localhost:8080/",
          "height": 284
        },
        "outputId": "9e893fcb-c56e-486c-f775-1cdec236552b"
      },
      "source": [
        "plt.plot(history.history['loss'], label='Training loss')\n",
        "plt.plot(history.history['val_loss'], label='Validation loss')\n",
        "plt.legend()"
      ],
      "execution_count": null,
      "outputs": [
        {
          "output_type": "execute_result",
          "data": {
            "text/plain": [
              "<matplotlib.legend.Legend at 0x7f16aabd0e90>"
            ]
          },
          "metadata": {},
          "execution_count": 63
        },
        {
          "output_type": "display_data",
          "data": {
            "image/png": "[encoded data removed]",
            "text/plain": [
              "<Figure size 432x288 with 1 Axes>"
            ]
          },
          "metadata": {
            "needs_background": "light"
          }
        }
      ]
    },
    {
      "cell_type": "markdown",
      "metadata": {
        "id": "DPwOdn4_cAbb"
      },
      "source": [
        "#### Making Predictions: "
      ]
    },
    {
      "cell_type": "code",
      "metadata": {
        "id": "iYfgW7XscAbc",
        "colab": {
          "base_uri": "https://localhost:8080/"
        },
        "outputId": "1f931477-2a10-427e-bf84-b027fe7ca7b9"
      },
      "source": [
        "y_pred=model.predict(X_test)"
      ],
      "execution_count": null,
      "outputs": [
        {
          "output_type": "stream",
          "name": "stdout",
          "text": [
            "WARNING:tensorflow:5 out of the last 7 calls to <function Model.make_predict_function.<locals>.predict_function at 0x7f16aac49cb0> triggered tf.function retracing. Tracing is expensive and the excessive number of tracings could be due to (1) creating @tf.function repeatedly in a loop, (2) passing tensors with different shapes, (3) passing Python objects instead of tensors. For (1), please define your @tf.function outside of the loop. For (2), @tf.function has experimental_relax_shapes=True option that relaxes argument shapes that can avoid unnecessary retracing. For (3), please refer to https://www.tensorflow.org/guide/function#controlling_retracing and https://www.tensorflow.org/api_docs/python/tf/function for  more details.\n"
          ]
        }
      ]
    },
    {
      "cell_type": "code",
      "metadata": {
        "id": "Q0YgD0XHcAbc",
        "colab": {
          "base_uri": "https://localhost:8080/",
          "height": 278
        },
        "outputId": "9093d370-b6eb-4c0e-897a-997d5baf7ea1"
      },
      "source": [
        "plt.plot(np.arange(0, len(y_train)), y_train, 'g', label=\"history\")\n",
        "plt.plot(np.arange(len(y_train), len(y_train) + len(y_test)), y_test, marker='.', label=\"true\")\n",
        "plt.plot(np.arange(len(y_train), len(y_train) + len(y_test)), y_pred, 'r', label=\"prediction\")\n",
        "plt.ylabel('ETH Close')\n",
        "plt.xlabel('Time Step')\n",
        "plt.legend()\n",
        "plt.show();"
      ],
      "execution_count": null,
      "outputs": [
        {
          "output_type": "display_data",
          "data": {
            "image/png": "[encoded data removed]",
            "text/plain": [
              "<Figure size 432x288 with 1 Axes>"
            ]
          },
          "metadata": {
            "needs_background": "light"
          }
        }
      ]
    },
    {
      "cell_type": "code",
      "metadata": {
        "id": "TI7i1QxVcAbc",
        "colab": {
          "base_uri": "https://localhost:8080/",
          "height": 278
        },
        "outputId": "0450f6f3-3925-4cb2-99b6-47d51fe933d3"
      },
      "source": [
        "plt.plot(y_test, marker='.', label=\"true\")\n",
        "plt.plot(y_pred, 'r', label=\"prediction\")\n",
        "plt.ylabel('ETH Close')\n",
        "plt.xlabel('Time Step')\n",
        "plt.legend()\n",
        "plt.show();"
      ],
      "execution_count": null,
      "outputs": [
        {
          "output_type": "display_data",
          "data": {
            "image/png": "[encoded data removed]",
            "text/plain": [
              "<Figure size 432x288 with 1 Axes>"
            ]
          },
          "metadata": {
            "needs_background": "light"
          }
        }
      ]
    },
    {
      "cell_type": "code",
      "metadata": {
        "id": "Iruq5Sz4cAbc",
        "colab": {
          "base_uri": "https://localhost:8080/"
        },
        "outputId": "05d92d08-47d4-4ed1-8b59-d0f147c42fdd"
      },
      "source": [
        "import sklearn.metrics as sm\n",
        "print(\"Mean absolute error =\", \n",
        "      round(sm.mean_absolute_error(y_test, y_pred), 5)) \n",
        "print(\"Mean squared error =\", \n",
        "      round(sm.mean_squared_error(y_test, y_pred), 5)) \n",
        "print(\"Median absolute error =\", \n",
        "      round(sm.median_absolute_error(y_test, y_pred), 5)) \n",
        "print(\"Explain variance score =\", \n",
        "      round(sm.explained_variance_score(y_test, y_pred), 5)) \n",
        "print(\"R2 score =\", \n",
        "      round(sm.r2_score(y_test, y_pred), 5))"
      ],
      "execution_count": null,
      "outputs": [
        {
          "output_type": "stream",
          "name": "stdout",
          "text": [
            "Mean absolute error = 0.07911\n",
            "Mean squared error = 0.01074\n",
            "Median absolute error = 0.06913\n",
            "Explain variance score = -0.38674\n",
            "R2 score = -0.48981\n"
          ]
        }
      ]
    },
    {
      "cell_type": "markdown",
      "metadata": {
        "id": "0Hjw9fASr03n"
      },
      "source": [
        "## Modeling 4\n",
        "\n",
        "Sequential LSTM  Keras Model:\n",
        "MinMaxScaler"
      ]
    },
    {
      "cell_type": "code",
      "metadata": {
        "colab": {
          "base_uri": "https://localhost:8080/"
        },
        "id": "nNwSE4K8u3jT",
        "outputId": "f02484b3-e388-4eb2-fd7a-267155f50f3e"
      },
      "source": [
        "# defining tran and test: \n",
        "train_size = int(len(df1)*0.9)\n",
        "test_size = len(df1) - train_size \n",
        "\n",
        "train,test=df1.iloc[0:train_size],df1.iloc[train_size:len(df1)]\n",
        "print(len(train),len(test))"
      ],
      "execution_count": null,
      "outputs": [
        {
          "output_type": "stream",
          "name": "stdout",
          "text": [
            "464 52\n"
          ]
        }
      ]
    },
    {
      "cell_type": "code",
      "metadata": {
        "colab": {
          "base_uri": "https://localhost:8080/"
        },
        "id": "x_2qgMJVssGC",
        "outputId": "3e1f490b-b84b-4a38-a056-291f28ccfc89"
      },
      "source": [
        "# Nomralization: \n",
        "# fit_transform() for training, transform() for test to avoid data leakage \n",
        "\n",
        "y_train,y_test = df1.eth_close.iloc[0:train_size],df1.eth_close.iloc[train_size:len(df1)]\n",
        "\n",
        "y_train,y_test = y_train.values.reshape(-1, 1),y_test.values.reshape(-1, 1)\n",
        "\n",
        "\n",
        "from sklearn.preprocessing import MinMaxScaler\n",
        "\n",
        "x_scaler = MinMaxScaler(feature_range=(-1,1))\n",
        "y_scaler = MinMaxScaler(feature_range=(-1,1))\n",
        "\n",
        "train = x_scaler.fit_transform(train)\n",
        "y_train = y_scaler.fit_transform(y_train)\n",
        "\n",
        "test =  x_scaler.transform(test)\n",
        "y_test = y_scaler.transform(y_test)\n",
        "\n",
        "print('x:',train.shape,test.shape)\n",
        "print('y:', y_train.shape,y_test.shape)"
      ],
      "execution_count": null,
      "outputs": [
        {
          "output_type": "stream",
          "name": "stdout",
          "text": [
            "x: (464, 16) (52, 16)\n",
            "y: (464, 1) (52, 1)\n"
          ]
        }
      ]
    },
    {
      "cell_type": "code",
      "metadata": {
        "id": "BaeAI__EyzN5"
      },
      "source": [
        "def split_sequences(x,y,n_steps):\n",
        "  X,Y = list(),list()\n",
        "  for i in range(len(x)):\n",
        "    end_ix = i+n_steps\n",
        "    if end_ix >= len(x): \n",
        "      break\n",
        "    else: \n",
        "        #seq_x, seq_y = x[i:end_ix, :-1,:], y[i+n_steps]\n",
        "        seq_x, seq_y = x[i : end_ix], y[i+n_steps]\n",
        "        X.append(seq_x)\n",
        "        Y.append(seq_y)\n",
        "  return array(X),array(Y)"
      ],
      "execution_count": null,
      "outputs": []
    },
    {
      "cell_type": "code",
      "metadata": {
        "id": "Y4WVUIbIzGrF"
      },
      "source": [
        "n_steps = 10\n",
        "X_train,y_train=split_sequences(train,y_train,n_steps)\n",
        "X_test,y_test=split_sequences(test,y_test,n_steps)"
      ],
      "execution_count": null,
      "outputs": []
    },
    {
      "cell_type": "code",
      "metadata": {
        "colab": {
          "base_uri": "https://localhost:8080/"
        },
        "id": "5v5Xwbn9r03y",
        "outputId": "f02166a1-1ee4-4851-915c-3d1747f2bbea"
      },
      "source": [
        "print('Input shape is:',X_train.shape[1],X_train.shape[2])\n",
        "\n",
        "model = keras.Sequential()\n",
        "model.add(keras.layers.LSTM(\n",
        "    units = 128,\n",
        "    input_shape=(X_train.shape[1],X_train.shape[2]),\n",
        "    return_sequences=True\n",
        "))\n",
        "model.add(keras.layers.LSTM(\n",
        "    units = 64,\n",
        "    return_sequences=True\n",
        "))\n",
        "model.add(keras.layers.LSTM(\n",
        "    units = 32\n",
        "))\n",
        "model.add(keras.layers.Dense(units=1))\n",
        "\n",
        "model.compile(\n",
        "    loss = 'mean_squared_error',\n",
        "    optimizer = keras.optimizers.Adam(0.001)\n",
        ")"
      ],
      "execution_count": null,
      "outputs": [
        {
          "output_type": "stream",
          "name": "stdout",
          "text": [
            "Input shape is: 10 16\n"
          ]
        }
      ]
    },
    {
      "cell_type": "code",
      "metadata": {
        "colab": {
          "base_uri": "https://localhost:8080/"
        },
        "id": "6MujC4WoOoY1",
        "outputId": "c49b9d14-4310-4d4c-c382-443a2a50b2f1"
      },
      "source": [
        "model.summary()"
      ],
      "execution_count": null,
      "outputs": [
        {
          "output_type": "stream",
          "name": "stdout",
          "text": [
            "Model: \"sequential_5\"\n",
            "_________________________________________________________________\n",
            " Layer (type)                Output Shape              Param #   \n",
            "=================================================================\n",
            " lstm_5 (LSTM)               (None, 10, 128)           74240     \n",
            "                                                                 \n",
            " lstm_6 (LSTM)               (None, 10, 64)            49408     \n",
            "                                                                 \n",
            " lstm_7 (LSTM)               (None, 32)                12416     \n",
            "                                                                 \n",
            " dense_5 (Dense)             (None, 1)                 33        \n",
            "                                                                 \n",
            "=================================================================\n",
            "Total params: 136,097\n",
            "Trainable params: 136,097\n",
            "Non-trainable params: 0\n",
            "_________________________________________________________________\n"
          ]
        }
      ]
    },
    {
      "cell_type": "markdown",
      "metadata": {
        "id": "N5R05HPRr03y"
      },
      "source": [
        "#### Training: "
      ]
    },
    {
      "cell_type": "code",
      "metadata": {
        "id": "UsJIHGAsr03z"
      },
      "source": [
        "history = model.fit(\n",
        "    X_train,y_train,\n",
        "    epochs=50,\n",
        "    batch_size=16,\n",
        "    validation_split = 0.1,\n",
        "    verbose=0,\n",
        "    shuffle=False\n",
        ")"
      ],
      "execution_count": null,
      "outputs": []
    },
    {
      "cell_type": "code",
      "metadata": {
        "colab": {
          "base_uri": "https://localhost:8080/",
          "height": 282
        },
        "id": "A2Acksghr03z",
        "outputId": "6f6177ca-4d0d-4d5e-c091-e2d217e986fe"
      },
      "source": [
        "plt.plot(history.history['loss'], label='Training loss')\n",
        "plt.plot(history.history['val_loss'], label='Validation loss')\n",
        "plt.legend()"
      ],
      "execution_count": null,
      "outputs": [
        {
          "output_type": "execute_result",
          "data": {
            "text/plain": [
              "<matplotlib.legend.Legend at 0x7f16a78b1910>"
            ]
          },
          "metadata": {},
          "execution_count": 75
        },
        {
          "output_type": "display_data",
          "data": {
            "image/png": "[encoded data removed]",
            "text/plain": [
              "<Figure size 432x288 with 1 Axes>"
            ]
          },
          "metadata": {
            "needs_background": "light"
          }
        }
      ]
    },
    {
      "cell_type": "markdown",
      "metadata": {
        "id": "Ut4k2Bjnr03z"
      },
      "source": [
        "#### Making Predictions: "
      ]
    },
    {
      "cell_type": "code",
      "metadata": {
        "id": "T_vTAm_jr03z",
        "colab": {
          "base_uri": "https://localhost:8080/"
        },
        "outputId": "f7ed74fc-3648-4ef5-c174-472f93b616d7"
      },
      "source": [
        "y_pred=model.predict(X_test)\n",
        "y_pred_train = model.predict(X_train)"
      ],
      "execution_count": null,
      "outputs": [
        {
          "output_type": "stream",
          "name": "stdout",
          "text": [
            "WARNING:tensorflow:6 out of the last 9 calls to <function Model.make_predict_function.<locals>.predict_function at 0x7f16a608bb90> triggered tf.function retracing. Tracing is expensive and the excessive number of tracings could be due to (1) creating @tf.function repeatedly in a loop, (2) passing tensors with different shapes, (3) passing Python objects instead of tensors. For (1), please define your @tf.function outside of the loop. For (2), @tf.function has experimental_relax_shapes=True option that relaxes argument shapes that can avoid unnecessary retracing. For (3), please refer to https://www.tensorflow.org/guide/function#controlling_retracing and https://www.tensorflow.org/api_docs/python/tf/function for  more details.\n"
          ]
        }
      ]
    },
    {
      "cell_type": "code",
      "metadata": {
        "id": "muPKHNhC3oZV"
      },
      "source": [
        "y_pred_test_rev = y_scaler.inverse_transform(y_pred)\n",
        "y_pred_train_rev = y_scaler.inverse_transform(y_pred_train)\n",
        "y_train_rev = y_scaler.inverse_transform(y_train)\n",
        "y_test_rev = y_scaler.inverse_transform(y_test)"
      ],
      "execution_count": null,
      "outputs": []
    },
    {
      "cell_type": "code",
      "metadata": {
        "colab": {
          "base_uri": "https://localhost:8080/"
        },
        "id": "-Zl2Xxmy5VUS",
        "outputId": "c6aecfe6-9457-49be-aacd-3098b185b4d2"
      },
      "source": [
        "import sklearn.metrics as sm\n",
        "print(\"Mean absolute error =\", \n",
        "      round(sm.mean_absolute_error(y_test_rev, y_pred_test_rev), 5)) \n",
        "print(\"Mean squared error =\", \n",
        "      round(sm.mean_squared_error(y_test_rev, y_pred_test_rev), 5)) \n",
        "print(\"Median absolute error =\", \n",
        "      round(sm.median_absolute_error(y_test_rev, y_pred_test_rev), 5)) \n",
        "print(\"Explain variance score =\", \n",
        "      round(sm.explained_variance_score(y_test_rev, y_pred_test_rev), 5)) \n",
        "print(\"R2 score =\", \n",
        "      round(sm.r2_score(y_test_rev, y_pred_test_rev), 5))"
      ],
      "execution_count": null,
      "outputs": [
        {
          "output_type": "stream",
          "name": "stdout",
          "text": [
            "Mean absolute error = 0.06254\n",
            "Mean squared error = 0.00845\n",
            "Median absolute error = 0.0486\n",
            "Explain variance score = 0.03579\n",
            "R2 score = -0.08755\n"
          ]
        }
      ]
    },
    {
      "cell_type": "code",
      "metadata": {
        "colab": {
          "base_uri": "https://localhost:8080/"
        },
        "id": "vwJzz8OT4VRQ",
        "outputId": "3eac8fb7-e61c-4aa4-e278-48c79928d95b"
      },
      "source": [
        "trainScore = sm.mean_squared_error(y_train_rev, y_pred_train_rev) ** .5\n",
        "print('Train Score: %.2f RMSE' % (trainScore))\n",
        "testScore = sm.mean_squared_error(y_test_rev, y_pred_test_rev) ** .5\n",
        "print('Test Score: %.2f RMSE' % (testScore))"
      ],
      "execution_count": null,
      "outputs": [
        {
          "output_type": "stream",
          "name": "stdout",
          "text": [
            "Train Score: 0.05 RMSE\n",
            "Test Score: 0.09 RMSE\n"
          ]
        }
      ]
    },
    {
      "cell_type": "code",
      "metadata": {
        "colab": {
          "base_uri": "https://localhost:8080/",
          "height": 278
        },
        "id": "GPKXjjrQr03z",
        "outputId": "f4e833d2-dcf9-4b0d-8f35-3e5035420c63"
      },
      "source": [
        "plt.plot(np.arange(0, len(y_train_rev)), y_train_rev, 'g', label=\"history\")\n",
        "plt.plot(np.arange(0, len(y_pred_train_rev)), y_pred_train_rev, 'orange', label=\"Pred. Training\")\n",
        "plt.plot(np.arange(len(y_train_rev), len(y_train_rev) + len(y_test_rev)), y_test_rev, marker='.', label=\"true\")\n",
        "plt.plot(np.arange(len(y_train_rev), len(y_train_rev) + len(y_test_rev)), y_pred_test_rev, 'r', label=\"prediction\")\n",
        "plt.ylabel('ETH Close')\n",
        "plt.xlabel('Time Step')\n",
        "plt.legend()\n",
        "plt.show();"
      ],
      "execution_count": null,
      "outputs": [
        {
          "output_type": "display_data",
          "data": {
            "image/png": "[encoded data removed]",
            "text/plain": [
              "<Figure size 432x288 with 1 Axes>"
            ]
          },
          "metadata": {
            "needs_background": "light"
          }
        }
      ]
    },
    {
      "cell_type": "code",
      "metadata": {
        "colab": {
          "base_uri": "https://localhost:8080/",
          "height": 278
        },
        "id": "C4oLoL9rr030",
        "outputId": "23744232-e539-467f-c115-a81528f2662f"
      },
      "source": [
        "plt.plot(y_test_rev, marker='.', label=\"true\")\n",
        "plt.plot(y_pred_test_rev, 'r', label=\"prediction\")\n",
        "plt.ylabel('ETH Close')\n",
        "plt.xlabel('Time Step')\n",
        "plt.legend()\n",
        "plt.show();"
      ],
      "execution_count": null,
      "outputs": [
        {
          "output_type": "display_data",
          "data": {
            "image/png": "[encoded data removed]",
            "text/plain": [
              "<Figure size 432x288 with 1 Axes>"
            ]
          },
          "metadata": {
            "needs_background": "light"
          }
        }
      ]
    },
    {
      "cell_type": "markdown",
      "metadata": {
        "id": "kK2WVTBfRDmc"
      },
      "source": [
        "## Modeling 5\n",
        "\n",
        "Sequential LSTM  Keras Model:\n",
        "StandardScaler"
      ]
    },
    {
      "cell_type": "code",
      "metadata": {
        "colab": {
          "base_uri": "https://localhost:8080/"
        },
        "id": "OX3Lj2IyRDmm",
        "outputId": "eb974b3d-1ead-4530-f551-f25a609f6e3e"
      },
      "source": [
        "# defining tran and test: \n",
        "train_size = int(len(df1)*0.9)\n",
        "test_size = len(df1) - train_size \n",
        "\n",
        "train,test=df1.iloc[0:train_size],df1.iloc[train_size:len(df1)]\n",
        "print(len(train),len(test))"
      ],
      "execution_count": null,
      "outputs": [
        {
          "output_type": "stream",
          "name": "stdout",
          "text": [
            "464 52\n"
          ]
        }
      ]
    },
    {
      "cell_type": "code",
      "metadata": {
        "colab": {
          "base_uri": "https://localhost:8080/"
        },
        "id": "PbLOufELRDmm",
        "outputId": "1e64df40-1fb9-4490-aeab-818fcc8b858d"
      },
      "source": [
        "# Nomralization: \n",
        "# fit_transform() for training, transform() for test to avoid data leakage \n",
        "\n",
        "y_train,y_test = df1.eth_close.iloc[0:train_size],df1.eth_close.iloc[train_size:len(df1)]\n",
        "\n",
        "y_train,y_test = y_train.values.reshape(-1, 1),y_test.values.reshape(-1, 1)\n",
        "\n",
        "\n",
        "from sklearn.preprocessing import StandardScaler\n",
        "\n",
        "x_scaler = StandardScaler()\n",
        "y_scaler = StandardScaler()\n",
        "\n",
        "train = x_scaler.fit_transform(train)\n",
        "y_train = y_scaler.fit_transform(y_train)\n",
        "\n",
        "test =  x_scaler.transform(test)\n",
        "y_test = y_scaler.transform(y_test)\n",
        "\n",
        "print('x:',train.shape,test.shape)\n",
        "print('y:', y_train.shape,y_test.shape)"
      ],
      "execution_count": null,
      "outputs": [
        {
          "output_type": "stream",
          "name": "stdout",
          "text": [
            "x: (464, 16) (52, 16)\n",
            "y: (464, 1) (52, 1)\n"
          ]
        }
      ]
    },
    {
      "cell_type": "code",
      "metadata": {
        "id": "FVVOejZ8RDmn"
      },
      "source": [
        "def split_sequences(x,y,n_steps):\n",
        "  X,Y = list(),list()\n",
        "  for i in range(len(x)):\n",
        "    end_ix = i+n_steps\n",
        "    if end_ix >= len(x): \n",
        "      break\n",
        "    else: \n",
        "        #seq_x, seq_y = x[i:end_ix, :-1,:], y[i+n_steps]\n",
        "        seq_x, seq_y = x[i : end_ix], y[i+n_steps]\n",
        "        X.append(seq_x)\n",
        "        Y.append(seq_y)\n",
        "  return array(X),array(Y)"
      ],
      "execution_count": null,
      "outputs": []
    },
    {
      "cell_type": "code",
      "metadata": {
        "id": "PxGKlQMoRDmn"
      },
      "source": [
        "n_steps = 10\n",
        "X_train,y_train=split_sequences(train,y_train,n_steps)\n",
        "X_test,y_test=split_sequences(test,y_test,n_steps)"
      ],
      "execution_count": null,
      "outputs": []
    },
    {
      "cell_type": "code",
      "metadata": {
        "colab": {
          "base_uri": "https://localhost:8080/"
        },
        "id": "XCIsjGcsRDmn",
        "outputId": "7feca882-3411-49a6-8f14-5e2e6c36c53a"
      },
      "source": [
        "print('Input shape is:',X_train.shape[1],X_train.shape[2])\n",
        "\n",
        "model = keras.Sequential()\n",
        "model.add(keras.layers.LSTM(\n",
        "    units = 128,\n",
        "    input_shape=(X_train.shape[1],X_train.shape[2]),\n",
        "    return_sequences=True\n",
        "))\n",
        "model.add(keras.layers.LSTM(\n",
        "    units = 128,\n",
        "    return_sequences=True\n",
        "))\n",
        "model.add(keras.layers.LSTM(\n",
        "    units = 64\n",
        "))\n",
        "model.add(keras.layers.Dense(units=1))\n",
        "\n",
        "model.compile(\n",
        "    loss = 'mean_squared_error',\n",
        "    optimizer = keras.optimizers.Adam(0.001)\n",
        ")"
      ],
      "execution_count": null,
      "outputs": [
        {
          "output_type": "stream",
          "name": "stdout",
          "text": [
            "Input shape is: 10 16\n"
          ]
        }
      ]
    },
    {
      "cell_type": "code",
      "metadata": {
        "colab": {
          "base_uri": "https://localhost:8080/"
        },
        "id": "P7wZQVSmRDmn",
        "outputId": "194c8baf-173a-4e5f-bb4b-a7d5df38d457"
      },
      "source": [
        "model.summary()"
      ],
      "execution_count": null,
      "outputs": [
        {
          "output_type": "stream",
          "name": "stdout",
          "text": [
            "Model: \"sequential_6\"\n",
            "_________________________________________________________________\n",
            " Layer (type)                Output Shape              Param #   \n",
            "=================================================================\n",
            " lstm_8 (LSTM)               (None, 10, 128)           74240     \n",
            "                                                                 \n",
            " lstm_9 (LSTM)               (None, 10, 128)           131584    \n",
            "                                                                 \n",
            " lstm_10 (LSTM)              (None, 64)                49408     \n",
            "                                                                 \n",
            " dense_6 (Dense)             (None, 1)                 65        \n",
            "                                                                 \n",
            "=================================================================\n",
            "Total params: 255,297\n",
            "Trainable params: 255,297\n",
            "Non-trainable params: 0\n",
            "_________________________________________________________________\n"
          ]
        }
      ]
    },
    {
      "cell_type": "markdown",
      "metadata": {
        "id": "Fxug_NU5RDmo"
      },
      "source": [
        "#### Training: "
      ]
    },
    {
      "cell_type": "code",
      "metadata": {
        "id": "t7N2iypDRDmo"
      },
      "source": [
        "history = model.fit(\n",
        "    X_train,y_train,\n",
        "    epochs=200,\n",
        "    batch_size=16,\n",
        "    validation_split = 0.1,\n",
        "    verbose=0,\n",
        "    shuffle=False\n",
        ")"
      ],
      "execution_count": null,
      "outputs": []
    },
    {
      "cell_type": "code",
      "metadata": {
        "colab": {
          "base_uri": "https://localhost:8080/",
          "height": 71
        },
        "id": "ZgrXbIU8RDmo",
        "outputId": "a808d236-828a-4463-eed2-d7f18714162e"
      },
      "source": [
        "plt.plot(history.history['loss'], label='Training loss')\n",
        "plt.plot(history.history['val_loss'], label='Validation loss')\n",
        "plt.legend()"
      ],
      "execution_count": null,
      "outputs": [
        {
          "output_type": "execute_result",
          "data": {
            "text/plain": [
              "<matplotlib.legend.Legend at 0x7f16aaa52c50>"
            ]
          },
          "metadata": {},
          "execution_count": 89
        },
        {
          "output_type": "display_data",
          "data": {
            "image/png": "[encoded data removed]",
            "text/plain": [
              "<Figure size 432x288 with 1 Axes>"
            ]
          },
          "metadata": {
            "needs_background": "light"
          }
        }
      ]
    },
    {
      "cell_type": "markdown",
      "metadata": {
        "id": "r82wuX6oRDmo"
      },
      "source": [
        "#### Making Predictions: "
      ]
    },
    {
      "cell_type": "code",
      "metadata": {
        "id": "Z9Up9f0dRDmo"
      },
      "source": [
        "y_pred=model.predict(X_test)\n",
        "y_pred_train = model.predict(X_train)"
      ],
      "execution_count": null,
      "outputs": []
    },
    {
      "cell_type": "code",
      "metadata": {
        "id": "dlijcXJvRDmo"
      },
      "source": [
        "y_pred_test_rev = y_scaler.inverse_transform(y_pred)\n",
        "y_pred_train_rev = y_scaler.inverse_transform(y_pred_train)\n",
        "y_train_rev = y_scaler.inverse_transform(y_train)\n",
        "y_test_rev = y_scaler.inverse_transform(y_test)"
      ],
      "execution_count": null,
      "outputs": []
    },
    {
      "cell_type": "code",
      "metadata": {
        "colab": {
          "base_uri": "https://localhost:8080/"
        },
        "id": "6p77zdZGRDmo",
        "outputId": "a400cb22-0476-423c-d5e0-96529755e699"
      },
      "source": [
        "import sklearn.metrics as sm\n",
        "print(\"Mean absolute error =\", \n",
        "      round(sm.mean_absolute_error(y_test_rev, y_pred_test_rev), 5)) \n",
        "print(\"Mean squared error =\", \n",
        "      round(sm.mean_squared_error(y_test_rev, y_pred_test_rev), 5)) \n",
        "print(\"Median absolute error =\", \n",
        "      round(sm.median_absolute_error(y_test_rev, y_pred_test_rev), 5)) \n",
        "print(\"Explain variance score =\", \n",
        "      round(sm.explained_variance_score(y_test_rev, y_pred_test_rev), 5)) \n",
        "print(\"R2 score =\", \n",
        "      round(sm.r2_score(y_test_rev, y_pred_test_rev), 5))"
      ],
      "execution_count": null,
      "outputs": [
        {
          "output_type": "stream",
          "name": "stdout",
          "text": [
            "Mean absolute error = 0.06894\n",
            "Mean squared error = 0.00994\n",
            "Median absolute error = 0.05114\n",
            "Explain variance score = -0.24106\n",
            "R2 score = -0.27902\n"
          ]
        }
      ]
    },
    {
      "cell_type": "code",
      "metadata": {
        "colab": {
          "base_uri": "https://localhost:8080/"
        },
        "id": "5IAJRGUbRDmp",
        "outputId": "86106cc2-fcf8-418d-9912-13f00f750510"
      },
      "source": [
        "trainScore = sm.mean_squared_error(y_train_rev, y_pred_train_rev) ** .5\n",
        "print('Train Score: %.2f RMSE' % (trainScore))\n",
        "testScore = sm.mean_squared_error(y_test_rev, y_pred_test_rev) ** .5\n",
        "print('Test Score: %.2f RMSE' % (testScore))"
      ],
      "execution_count": null,
      "outputs": [
        {
          "output_type": "stream",
          "name": "stdout",
          "text": [
            "Train Score: 0.02 RMSE\n",
            "Test Score: 0.10 RMSE\n"
          ]
        }
      ]
    },
    {
      "cell_type": "code",
      "metadata": {
        "colab": {
          "base_uri": "https://localhost:8080/",
          "height": 53
        },
        "id": "OlX476oURDmp",
        "outputId": "0238aedc-9f51-4ec1-a4f2-ce56e978df20"
      },
      "source": [
        "plt.plot(np.arange(0, len(y_train_rev)), y_train_rev, 'g', label=\"history\")\n",
        "plt.plot(np.arange(0, len(y_pred_train_rev)), y_pred_train_rev, 'orange', label=\"Pred. Training\")\n",
        "plt.plot(np.arange(len(y_train_rev), len(y_train_rev) + len(y_test_rev)), y_test_rev, marker='.', label=\"true\")\n",
        "plt.plot(np.arange(len(y_train_rev), len(y_train_rev) + len(y_test_rev)), y_pred_test_rev, 'r', label=\"prediction\")\n",
        "plt.ylabel('ETH Close')\n",
        "plt.xlabel('Time Step')\n",
        "plt.legend()\n",
        "plt.show();"
      ],
      "execution_count": null,
      "outputs": [
        {
          "output_type": "display_data",
          "data": {
            "image/png": "[encoded data removed]",
            "text/plain": [
              "<Figure size 432x288 with 1 Axes>"
            ]
          },
          "metadata": {
            "needs_background": "light"
          }
        }
      ]
    },
    {
      "cell_type": "code",
      "metadata": {
        "colab": {
          "base_uri": "https://localhost:8080/",
          "height": 53
        },
        "id": "gJ4ijK9tRDmr",
        "outputId": "99c593b2-8446-4be5-fe93-a174e5c9c6a0"
      },
      "source": [
        "plt.plot(y_test_rev, marker='.', label=\"true\")\n",
        "plt.plot(y_pred_test_rev, 'r', label=\"prediction\")\n",
        "plt.ylabel('ETH Close')\n",
        "plt.xlabel('Time Step')\n",
        "plt.legend()\n",
        "plt.show();"
      ],
      "execution_count": null,
      "outputs": [
        {
          "output_type": "display_data",
          "data": {
            "image/png": "[encoded data removed]",
            "text/plain": [
              "<Figure size 432x288 with 1 Axes>"
            ]
          },
          "metadata": {
            "needs_background": "light"
          }
        }
      ]
    }
  ]
}